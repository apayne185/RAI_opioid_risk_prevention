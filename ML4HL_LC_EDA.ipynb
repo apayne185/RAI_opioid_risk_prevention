{
 "cells": [
  {
   "cell_type": "markdown",
   "id": "444a14a4",
   "metadata": {},
   "source": [
    "# Lung Cancer EDA and Modeling"
   ]
  },
  {
   "cell_type": "markdown",
   "id": "e3eb65b0",
   "metadata": {},
   "source": [
    "## 0. Dataset Overview\n",
    "\n",
    "Number of Instances: patient-level records (rows)\n",
    "\n",
    "Number of Attributes: 15 predictive attributes and 1 target class\n",
    "\n",
    "Attribute Information:\n",
    "- age: age of patient at time of diagnosis\n",
    "- gender: male/female\n",
    "- country: country where patient resides at time of diagnosis\n",
    "- diagnosis_date: date of patients diagnosis (year-month-day)\n",
    "- cancer_stage: stage of cancer at time of diagnosis (1,2,3,4)\n",
    "- family_history: yes/no of a family history of cancer\n",
    "- smoking_status: smoking status of patient (1: current smoker, 2: former smoker, 3: never smoked, 4: passive smoker)\n",
    "- bmi: Body Mass Index of patient at time of diagnosis\n",
    "- cholesterol_level: integer value of cholesterol_level\n",
    "- hypertension: indicates if patient has high blood pressure (1: yes, 0: no)\n",
    "- asthma: indicates if patient has asthma (1: yes, 0: no)\n",
    "- cirrhosis: indicates if patient has cirrhosis (1: yes, 0: no)\n",
    "- other_cancer: indicates if patient has another form of cancer, aside from original diagnosis (1: yes, 0: no)\n",
    "- treatment_type: type of treatment patient received (1: surgery, 2: chemotherapy, 3: radiation, 4: combined)\n",
    "- end_treatment_date: date on which patient completed their treatment or died\n",
    "- survived (target): indicates if patient lived or died (1: yes, 0:no)\n",
    "\n",
    "\n",
    "class:\n",
    "- survived = 1: patient who survived cancer treatment \n",
    "- survived = 0: patient who died during cancer treatment (due to cancer)"
   ]
  },
  {
   "cell_type": "markdown",
   "id": "b52c8b4d",
   "metadata": {},
   "source": [
    "## 1. Environment Setup"
   ]
  },
  {
   "cell_type": "code",
   "execution_count": null,
   "id": "1e5c904a",
   "metadata": {},
   "outputs": [],
   "source": [
    "#Setup\n",
    "\n",
    "from pathlib import Path\n",
    "from datetime import datetime\n",
    "import numpy as np\n",
    "import pandas as pd\n",
    "import matplotlib.pyplot as plt\n",
    "from scipy.stats import spearmanr, kendalltau, chi2_contingency, ttest_ind, mannwhitneyu\n",
    "from statsmodels.stats.proportion import proportion_confint\n",
    "from statsmodels.stats.outliers_influence import variance_inflation_factor\n",
    "import statsmodels.api as sm\n",
    "from IPython.display import display, Markdown\n",
    "import opendatasets as od \n",
    "import seaborn as sns\n",
    "from itertools import combinations \n",
    "from yellowbrick.features import Rank2D\n",
    "\n",
    "#Scikit-learn\n",
    "from sklearn.model_selection import train_test_split, GridSearchCV\n",
    "from sklearn.pipeline import Pipeline\n",
    "from sklearn.compose import ColumnTransformer\n",
    "from sklearn.preprocessing import StandardScaler, OneHotEncoder, PolynomialFeatures\n",
    "from sklearn.impute import SimpleImputer\n",
    "from sklearn.linear_model import LogisticRegression, Lasso, LogisticRegressionCV\n",
    "from sklearn.dummy import DummyClassifier\n",
    "from sklearn.calibration import CalibratedClassifierCV, CalibrationDisplay\n",
    "from sklearn.feature_selection import VarianceThreshold\n",
    "from sklearn.base import clone\n",
    "from sklearn.metrics import (\n",
    "    roc_auc_score,           #Measures how well the model separates classes (higher is better)\n",
    "    average_precision_score, #Average precision for PR curves (good for imbalance)\n",
    "    brier_score_loss,        #Mean squared error of predicted probabilities (lower is better)\n",
    "    log_loss,                #Penalizes bad probability estimates (lower is better)\n",
    "    confusion_matrix,        #Counts TP/FP/TN/FN\n",
    "    precision_score,         #Of predicted positives, how many were correct?\n",
    "    recall_score,            #Of actual positives, how many did we catch?\n",
    "    RocCurveDisplay,         \n",
    "    PrecisionRecallDisplay,\n",
    "    f1_score,\n",
    "    r2_score, \n",
    "    mean_squared_error,\n",
    "    classification_report\n",
    ")\n",
    "#Fairness utilities\n",
    "try:\n",
    "    from fairlearn.metrics import (\n",
    "        MetricFrame,\n",
    "        selection_rate,\n",
    "        true_positive_rate,\n",
    "        false_positive_rate,\n",
    "    )\n",
    "    _FAIRLEARN = True\n",
    "except Exception:\n",
    "    _FAIRLEARN = False\n",
    "\n",
    "#Responsible AI dashboard\n",
    "try:\n",
    "    from responsibleai import RAIInsights\n",
    "    from raiwidgets import ResponsibleAIDashboard\n",
    "    _RAI = True\n",
    "except Exception:\n",
    "    _RAI = False\n",
    "\n",
    "#Course utilities for transparency and thresholding\n",
    "from utils import (\n",
    "    positive_scores,\n",
    "    auc_report,\n",
    "    tradeoff_table,\n",
    "    pick_threshold_cost,\n",
    "    pick_threshold_recall_floor,\n",
    "    pick_threshold_workload,\n",
    "    summary_at_threshold,\n",
    "    plot_recall_floor_curves,\n",
    "    plot_cumulative_recall_at_threshold,\n",
    "    plot_topk_at_threshold,\n",
    ")\n",
    "\n",
    "RANDOM_STATE = 42\n",
    "np.random.seed(RANDOM_STATE)\n"
   ]
  },
  {
   "cell_type": "markdown",
   "id": "b2ffdb0e",
   "metadata": {},
   "source": [
    "## 2. Data Loading and Preparation"
   ]
  },
  {
   "cell_type": "code",
   "execution_count": null,
   "id": "8544143e",
   "metadata": {},
   "outputs": [
    {
     "name": "stdout",
     "output_type": "stream",
     "text": [
      "Shape: (890000, 17)\n"
     ]
    },
    {
     "data": {
      "application/vnd.microsoft.datawrangler.viewer.v0+json": {
       "columns": [
        {
         "name": "index",
         "rawType": "int64",
         "type": "integer"
        },
        {
         "name": "id",
         "rawType": "int64",
         "type": "integer"
        },
        {
         "name": "age",
         "rawType": "float64",
         "type": "float"
        },
        {
         "name": "gender",
         "rawType": "object",
         "type": "string"
        },
        {
         "name": "country",
         "rawType": "object",
         "type": "string"
        },
        {
         "name": "diagnosis_date",
         "rawType": "object",
         "type": "string"
        },
        {
         "name": "cancer_stage",
         "rawType": "object",
         "type": "string"
        },
        {
         "name": "family_history",
         "rawType": "object",
         "type": "string"
        },
        {
         "name": "smoking_status",
         "rawType": "object",
         "type": "string"
        },
        {
         "name": "bmi",
         "rawType": "float64",
         "type": "float"
        },
        {
         "name": "cholesterol_level",
         "rawType": "int64",
         "type": "integer"
        },
        {
         "name": "hypertension",
         "rawType": "int64",
         "type": "integer"
        },
        {
         "name": "asthma",
         "rawType": "int64",
         "type": "integer"
        },
        {
         "name": "cirrhosis",
         "rawType": "int64",
         "type": "integer"
        },
        {
         "name": "other_cancer",
         "rawType": "int64",
         "type": "integer"
        },
        {
         "name": "treatment_type",
         "rawType": "object",
         "type": "string"
        },
        {
         "name": "end_treatment_date",
         "rawType": "object",
         "type": "string"
        },
        {
         "name": "survived",
         "rawType": "int64",
         "type": "integer"
        }
       ],
       "ref": "de759b49-ffe2-4491-ab4f-f72244489e72",
       "rows": [
        [
         "0",
         "1",
         "64.0",
         "Male",
         "Sweden",
         "2016-04-05",
         "Stage I",
         "Yes",
         "Passive Smoker",
         "29.4",
         "199",
         "0",
         "0",
         "1",
         "0",
         "Chemotherapy",
         "2017-09-10",
         "0"
        ],
        [
         "1",
         "2",
         "50.0",
         "Female",
         "Netherlands",
         "2023-04-20",
         "Stage III",
         "Yes",
         "Passive Smoker",
         "41.2",
         "280",
         "1",
         "1",
         "0",
         "0",
         "Surgery",
         "2024-06-17",
         "1"
        ],
        [
         "2",
         "3",
         "65.0",
         "Female",
         "Hungary",
         "2023-04-05",
         "Stage III",
         "Yes",
         "Former Smoker",
         "44.0",
         "268",
         "1",
         "1",
         "0",
         "0",
         "Combined",
         "2024-04-09",
         "0"
        ],
        [
         "3",
         "4",
         "51.0",
         "Female",
         "Belgium",
         "2016-02-05",
         "Stage I",
         "No",
         "Passive Smoker",
         "43.0",
         "241",
         "1",
         "1",
         "0",
         "0",
         "Chemotherapy",
         "2017-04-23",
         "0"
        ],
        [
         "4",
         "5",
         "37.0",
         "Male",
         "Luxembourg",
         "2023-11-29",
         "Stage I",
         "No",
         "Passive Smoker",
         "19.7",
         "178",
         "0",
         "0",
         "0",
         "0",
         "Combined",
         "2025-01-08",
         "0"
        ],
        [
         "5",
         "6",
         "50.0",
         "Male",
         "Italy",
         "2023-01-02",
         "Stage I",
         "No",
         "Never Smoked",
         "37.6",
         "274",
         "1",
         "0",
         "0",
         "0",
         "Radiation",
         "2024-12-27",
         "0"
        ],
        [
         "6",
         "7",
         "49.0",
         "Female",
         "Croatia",
         "2018-05-21",
         "Stage III",
         "Yes",
         "Passive Smoker",
         "43.1",
         "259",
         "0",
         "0",
         "0",
         "0",
         "Radiation",
         "2019-05-06",
         "1"
        ],
        [
         "7",
         "8",
         "51.0",
         "Male",
         "Denmark",
         "2017-02-18",
         "Stage IV",
         "Yes",
         "Former Smoker",
         "25.8",
         "195",
         "1",
         "1",
         "0",
         "0",
         "Combined",
         "2017-08-26",
         "0"
        ],
        [
         "8",
         "9",
         "64.0",
         "Male",
         "Sweden",
         "2021-03-21",
         "Stage III",
         "Yes",
         "Current Smoker",
         "21.5",
         "236",
         "0",
         "0",
         "0",
         "0",
         "Chemotherapy",
         "2022-03-07",
         "0"
        ],
        [
         "9",
         "10",
         "56.0",
         "Male",
         "Hungary",
         "2021-11-30",
         "Stage IV",
         "Yes",
         "Current Smoker",
         "17.3",
         "183",
         "1",
         "0",
         "0",
         "1",
         "Surgery",
         "2023-11-29",
         "0"
        ],
        [
         "10",
         "11",
         "48.0",
         "Female",
         "Luxembourg",
         "2023-12-24",
         "Stage IV",
         "No",
         "Never Smoked",
         "30.7",
         "262",
         "1",
         "1",
         "0",
         "0",
         "Surgery",
         "2024-10-28",
         "1"
        ],
        [
         "11",
         "12",
         "47.0",
         "Male",
         "Malta",
         "2019-11-18",
         "Stage II",
         "Yes",
         "Former Smoker",
         "33.9",
         "287",
         "0",
         "0",
         "0",
         "0",
         "Combined",
         "2021-02-18",
         "0"
        ],
        [
         "12",
         "13",
         "67.0",
         "Female",
         "Germany",
         "2024-05-26",
         "Stage II",
         "Yes",
         "Current Smoker",
         "25.6",
         "163",
         "0",
         "1",
         "0",
         "0",
         "Chemotherapy",
         "2025-09-08",
         "0"
        ],
        [
         "13",
         "14",
         "56.0",
         "Female",
         "Denmark",
         "2022-08-07",
         "Stage IV",
         "No",
         "Never Smoked",
         "26.3",
         "174",
         "1",
         "1",
         "1",
         "0",
         "Combined",
         "2023-05-30",
         "0"
        ],
        [
         "14",
         "15",
         "67.0",
         "Female",
         "Poland",
         "2023-04-12",
         "Stage II",
         "Yes",
         "Former Smoker",
         "42.7",
         "259",
         "1",
         "1",
         "0",
         "0",
         "Radiation",
         "2024-02-18",
         "0"
        ]
       ],
       "shape": {
        "columns": 17,
        "rows": 15
       }
      },
      "text/html": [
       "<div>\n",
       "<style scoped>\n",
       "    .dataframe tbody tr th:only-of-type {\n",
       "        vertical-align: middle;\n",
       "    }\n",
       "\n",
       "    .dataframe tbody tr th {\n",
       "        vertical-align: top;\n",
       "    }\n",
       "\n",
       "    .dataframe thead th {\n",
       "        text-align: right;\n",
       "    }\n",
       "</style>\n",
       "<table border=\"1\" class=\"dataframe\">\n",
       "  <thead>\n",
       "    <tr style=\"text-align: right;\">\n",
       "      <th></th>\n",
       "      <th>id</th>\n",
       "      <th>age</th>\n",
       "      <th>gender</th>\n",
       "      <th>country</th>\n",
       "      <th>diagnosis_date</th>\n",
       "      <th>cancer_stage</th>\n",
       "      <th>family_history</th>\n",
       "      <th>smoking_status</th>\n",
       "      <th>bmi</th>\n",
       "      <th>cholesterol_level</th>\n",
       "      <th>hypertension</th>\n",
       "      <th>asthma</th>\n",
       "      <th>cirrhosis</th>\n",
       "      <th>other_cancer</th>\n",
       "      <th>treatment_type</th>\n",
       "      <th>end_treatment_date</th>\n",
       "      <th>survived</th>\n",
       "    </tr>\n",
       "  </thead>\n",
       "  <tbody>\n",
       "    <tr>\n",
       "      <th>0</th>\n",
       "      <td>1</td>\n",
       "      <td>64.0</td>\n",
       "      <td>Male</td>\n",
       "      <td>Sweden</td>\n",
       "      <td>2016-04-05</td>\n",
       "      <td>Stage I</td>\n",
       "      <td>Yes</td>\n",
       "      <td>Passive Smoker</td>\n",
       "      <td>29.4</td>\n",
       "      <td>199</td>\n",
       "      <td>0</td>\n",
       "      <td>0</td>\n",
       "      <td>1</td>\n",
       "      <td>0</td>\n",
       "      <td>Chemotherapy</td>\n",
       "      <td>2017-09-10</td>\n",
       "      <td>0</td>\n",
       "    </tr>\n",
       "    <tr>\n",
       "      <th>1</th>\n",
       "      <td>2</td>\n",
       "      <td>50.0</td>\n",
       "      <td>Female</td>\n",
       "      <td>Netherlands</td>\n",
       "      <td>2023-04-20</td>\n",
       "      <td>Stage III</td>\n",
       "      <td>Yes</td>\n",
       "      <td>Passive Smoker</td>\n",
       "      <td>41.2</td>\n",
       "      <td>280</td>\n",
       "      <td>1</td>\n",
       "      <td>1</td>\n",
       "      <td>0</td>\n",
       "      <td>0</td>\n",
       "      <td>Surgery</td>\n",
       "      <td>2024-06-17</td>\n",
       "      <td>1</td>\n",
       "    </tr>\n",
       "    <tr>\n",
       "      <th>2</th>\n",
       "      <td>3</td>\n",
       "      <td>65.0</td>\n",
       "      <td>Female</td>\n",
       "      <td>Hungary</td>\n",
       "      <td>2023-04-05</td>\n",
       "      <td>Stage III</td>\n",
       "      <td>Yes</td>\n",
       "      <td>Former Smoker</td>\n",
       "      <td>44.0</td>\n",
       "      <td>268</td>\n",
       "      <td>1</td>\n",
       "      <td>1</td>\n",
       "      <td>0</td>\n",
       "      <td>0</td>\n",
       "      <td>Combined</td>\n",
       "      <td>2024-04-09</td>\n",
       "      <td>0</td>\n",
       "    </tr>\n",
       "    <tr>\n",
       "      <th>3</th>\n",
       "      <td>4</td>\n",
       "      <td>51.0</td>\n",
       "      <td>Female</td>\n",
       "      <td>Belgium</td>\n",
       "      <td>2016-02-05</td>\n",
       "      <td>Stage I</td>\n",
       "      <td>No</td>\n",
       "      <td>Passive Smoker</td>\n",
       "      <td>43.0</td>\n",
       "      <td>241</td>\n",
       "      <td>1</td>\n",
       "      <td>1</td>\n",
       "      <td>0</td>\n",
       "      <td>0</td>\n",
       "      <td>Chemotherapy</td>\n",
       "      <td>2017-04-23</td>\n",
       "      <td>0</td>\n",
       "    </tr>\n",
       "    <tr>\n",
       "      <th>4</th>\n",
       "      <td>5</td>\n",
       "      <td>37.0</td>\n",
       "      <td>Male</td>\n",
       "      <td>Luxembourg</td>\n",
       "      <td>2023-11-29</td>\n",
       "      <td>Stage I</td>\n",
       "      <td>No</td>\n",
       "      <td>Passive Smoker</td>\n",
       "      <td>19.7</td>\n",
       "      <td>178</td>\n",
       "      <td>0</td>\n",
       "      <td>0</td>\n",
       "      <td>0</td>\n",
       "      <td>0</td>\n",
       "      <td>Combined</td>\n",
       "      <td>2025-01-08</td>\n",
       "      <td>0</td>\n",
       "    </tr>\n",
       "    <tr>\n",
       "      <th>5</th>\n",
       "      <td>6</td>\n",
       "      <td>50.0</td>\n",
       "      <td>Male</td>\n",
       "      <td>Italy</td>\n",
       "      <td>2023-01-02</td>\n",
       "      <td>Stage I</td>\n",
       "      <td>No</td>\n",
       "      <td>Never Smoked</td>\n",
       "      <td>37.6</td>\n",
       "      <td>274</td>\n",
       "      <td>1</td>\n",
       "      <td>0</td>\n",
       "      <td>0</td>\n",
       "      <td>0</td>\n",
       "      <td>Radiation</td>\n",
       "      <td>2024-12-27</td>\n",
       "      <td>0</td>\n",
       "    </tr>\n",
       "    <tr>\n",
       "      <th>6</th>\n",
       "      <td>7</td>\n",
       "      <td>49.0</td>\n",
       "      <td>Female</td>\n",
       "      <td>Croatia</td>\n",
       "      <td>2018-05-21</td>\n",
       "      <td>Stage III</td>\n",
       "      <td>Yes</td>\n",
       "      <td>Passive Smoker</td>\n",
       "      <td>43.1</td>\n",
       "      <td>259</td>\n",
       "      <td>0</td>\n",
       "      <td>0</td>\n",
       "      <td>0</td>\n",
       "      <td>0</td>\n",
       "      <td>Radiation</td>\n",
       "      <td>2019-05-06</td>\n",
       "      <td>1</td>\n",
       "    </tr>\n",
       "    <tr>\n",
       "      <th>7</th>\n",
       "      <td>8</td>\n",
       "      <td>51.0</td>\n",
       "      <td>Male</td>\n",
       "      <td>Denmark</td>\n",
       "      <td>2017-02-18</td>\n",
       "      <td>Stage IV</td>\n",
       "      <td>Yes</td>\n",
       "      <td>Former Smoker</td>\n",
       "      <td>25.8</td>\n",
       "      <td>195</td>\n",
       "      <td>1</td>\n",
       "      <td>1</td>\n",
       "      <td>0</td>\n",
       "      <td>0</td>\n",
       "      <td>Combined</td>\n",
       "      <td>2017-08-26</td>\n",
       "      <td>0</td>\n",
       "    </tr>\n",
       "    <tr>\n",
       "      <th>8</th>\n",
       "      <td>9</td>\n",
       "      <td>64.0</td>\n",
       "      <td>Male</td>\n",
       "      <td>Sweden</td>\n",
       "      <td>2021-03-21</td>\n",
       "      <td>Stage III</td>\n",
       "      <td>Yes</td>\n",
       "      <td>Current Smoker</td>\n",
       "      <td>21.5</td>\n",
       "      <td>236</td>\n",
       "      <td>0</td>\n",
       "      <td>0</td>\n",
       "      <td>0</td>\n",
       "      <td>0</td>\n",
       "      <td>Chemotherapy</td>\n",
       "      <td>2022-03-07</td>\n",
       "      <td>0</td>\n",
       "    </tr>\n",
       "    <tr>\n",
       "      <th>9</th>\n",
       "      <td>10</td>\n",
       "      <td>56.0</td>\n",
       "      <td>Male</td>\n",
       "      <td>Hungary</td>\n",
       "      <td>2021-11-30</td>\n",
       "      <td>Stage IV</td>\n",
       "      <td>Yes</td>\n",
       "      <td>Current Smoker</td>\n",
       "      <td>17.3</td>\n",
       "      <td>183</td>\n",
       "      <td>1</td>\n",
       "      <td>0</td>\n",
       "      <td>0</td>\n",
       "      <td>1</td>\n",
       "      <td>Surgery</td>\n",
       "      <td>2023-11-29</td>\n",
       "      <td>0</td>\n",
       "    </tr>\n",
       "    <tr>\n",
       "      <th>10</th>\n",
       "      <td>11</td>\n",
       "      <td>48.0</td>\n",
       "      <td>Female</td>\n",
       "      <td>Luxembourg</td>\n",
       "      <td>2023-12-24</td>\n",
       "      <td>Stage IV</td>\n",
       "      <td>No</td>\n",
       "      <td>Never Smoked</td>\n",
       "      <td>30.7</td>\n",
       "      <td>262</td>\n",
       "      <td>1</td>\n",
       "      <td>1</td>\n",
       "      <td>0</td>\n",
       "      <td>0</td>\n",
       "      <td>Surgery</td>\n",
       "      <td>2024-10-28</td>\n",
       "      <td>1</td>\n",
       "    </tr>\n",
       "    <tr>\n",
       "      <th>11</th>\n",
       "      <td>12</td>\n",
       "      <td>47.0</td>\n",
       "      <td>Male</td>\n",
       "      <td>Malta</td>\n",
       "      <td>2019-11-18</td>\n",
       "      <td>Stage II</td>\n",
       "      <td>Yes</td>\n",
       "      <td>Former Smoker</td>\n",
       "      <td>33.9</td>\n",
       "      <td>287</td>\n",
       "      <td>0</td>\n",
       "      <td>0</td>\n",
       "      <td>0</td>\n",
       "      <td>0</td>\n",
       "      <td>Combined</td>\n",
       "      <td>2021-02-18</td>\n",
       "      <td>0</td>\n",
       "    </tr>\n",
       "    <tr>\n",
       "      <th>12</th>\n",
       "      <td>13</td>\n",
       "      <td>67.0</td>\n",
       "      <td>Female</td>\n",
       "      <td>Germany</td>\n",
       "      <td>2024-05-26</td>\n",
       "      <td>Stage II</td>\n",
       "      <td>Yes</td>\n",
       "      <td>Current Smoker</td>\n",
       "      <td>25.6</td>\n",
       "      <td>163</td>\n",
       "      <td>0</td>\n",
       "      <td>1</td>\n",
       "      <td>0</td>\n",
       "      <td>0</td>\n",
       "      <td>Chemotherapy</td>\n",
       "      <td>2025-09-08</td>\n",
       "      <td>0</td>\n",
       "    </tr>\n",
       "    <tr>\n",
       "      <th>13</th>\n",
       "      <td>14</td>\n",
       "      <td>56.0</td>\n",
       "      <td>Female</td>\n",
       "      <td>Denmark</td>\n",
       "      <td>2022-08-07</td>\n",
       "      <td>Stage IV</td>\n",
       "      <td>No</td>\n",
       "      <td>Never Smoked</td>\n",
       "      <td>26.3</td>\n",
       "      <td>174</td>\n",
       "      <td>1</td>\n",
       "      <td>1</td>\n",
       "      <td>1</td>\n",
       "      <td>0</td>\n",
       "      <td>Combined</td>\n",
       "      <td>2023-05-30</td>\n",
       "      <td>0</td>\n",
       "    </tr>\n",
       "    <tr>\n",
       "      <th>14</th>\n",
       "      <td>15</td>\n",
       "      <td>67.0</td>\n",
       "      <td>Female</td>\n",
       "      <td>Poland</td>\n",
       "      <td>2023-04-12</td>\n",
       "      <td>Stage II</td>\n",
       "      <td>Yes</td>\n",
       "      <td>Former Smoker</td>\n",
       "      <td>42.7</td>\n",
       "      <td>259</td>\n",
       "      <td>1</td>\n",
       "      <td>1</td>\n",
       "      <td>0</td>\n",
       "      <td>0</td>\n",
       "      <td>Radiation</td>\n",
       "      <td>2024-02-18</td>\n",
       "      <td>0</td>\n",
       "    </tr>\n",
       "  </tbody>\n",
       "</table>\n",
       "</div>"
      ],
      "text/plain": [
       "    id   age  gender      country diagnosis_date cancer_stage family_history  \\\n",
       "0    1  64.0    Male       Sweden     2016-04-05      Stage I            Yes   \n",
       "1    2  50.0  Female  Netherlands     2023-04-20    Stage III            Yes   \n",
       "2    3  65.0  Female      Hungary     2023-04-05    Stage III            Yes   \n",
       "3    4  51.0  Female      Belgium     2016-02-05      Stage I             No   \n",
       "4    5  37.0    Male   Luxembourg     2023-11-29      Stage I             No   \n",
       "5    6  50.0    Male        Italy     2023-01-02      Stage I             No   \n",
       "6    7  49.0  Female      Croatia     2018-05-21    Stage III            Yes   \n",
       "7    8  51.0    Male      Denmark     2017-02-18     Stage IV            Yes   \n",
       "8    9  64.0    Male       Sweden     2021-03-21    Stage III            Yes   \n",
       "9   10  56.0    Male      Hungary     2021-11-30     Stage IV            Yes   \n",
       "10  11  48.0  Female   Luxembourg     2023-12-24     Stage IV             No   \n",
       "11  12  47.0    Male        Malta     2019-11-18     Stage II            Yes   \n",
       "12  13  67.0  Female      Germany     2024-05-26     Stage II            Yes   \n",
       "13  14  56.0  Female      Denmark     2022-08-07     Stage IV             No   \n",
       "14  15  67.0  Female       Poland     2023-04-12     Stage II            Yes   \n",
       "\n",
       "    smoking_status   bmi  cholesterol_level  hypertension  asthma  cirrhosis  \\\n",
       "0   Passive Smoker  29.4                199             0       0          1   \n",
       "1   Passive Smoker  41.2                280             1       1          0   \n",
       "2    Former Smoker  44.0                268             1       1          0   \n",
       "3   Passive Smoker  43.0                241             1       1          0   \n",
       "4   Passive Smoker  19.7                178             0       0          0   \n",
       "5     Never Smoked  37.6                274             1       0          0   \n",
       "6   Passive Smoker  43.1                259             0       0          0   \n",
       "7    Former Smoker  25.8                195             1       1          0   \n",
       "8   Current Smoker  21.5                236             0       0          0   \n",
       "9   Current Smoker  17.3                183             1       0          0   \n",
       "10    Never Smoked  30.7                262             1       1          0   \n",
       "11   Former Smoker  33.9                287             0       0          0   \n",
       "12  Current Smoker  25.6                163             0       1          0   \n",
       "13    Never Smoked  26.3                174             1       1          1   \n",
       "14   Former Smoker  42.7                259             1       1          0   \n",
       "\n",
       "    other_cancer treatment_type end_treatment_date  survived  \n",
       "0              0   Chemotherapy         2017-09-10         0  \n",
       "1              0        Surgery         2024-06-17         1  \n",
       "2              0       Combined         2024-04-09         0  \n",
       "3              0   Chemotherapy         2017-04-23         0  \n",
       "4              0       Combined         2025-01-08         0  \n",
       "5              0      Radiation         2024-12-27         0  \n",
       "6              0      Radiation         2019-05-06         1  \n",
       "7              0       Combined         2017-08-26         0  \n",
       "8              0   Chemotherapy         2022-03-07         0  \n",
       "9              1        Surgery         2023-11-29         0  \n",
       "10             0        Surgery         2024-10-28         1  \n",
       "11             0       Combined         2021-02-18         0  \n",
       "12             0   Chemotherapy         2025-09-08         0  \n",
       "13             0       Combined         2023-05-30         0  \n",
       "14             0      Radiation         2024-02-18         0  "
      ]
     },
     "execution_count": 91,
     "metadata": {},
     "output_type": "execute_result"
    }
   ],
   "source": [
    "#Path to the CSV on your machine\n",
    "DATA_PATH = \"./Data/lung_cancer_dataset_med.csv\"\n",
    "\n",
    "df_raw = pd.read_csv(DATA_PATH)\n",
    "print(\"Shape:\", df_raw.shape)\n",
    "df_raw.head(15)"
   ]
  },
  {
   "cell_type": "markdown",
   "id": "ea613838",
   "metadata": {},
   "source": [
    "### 2.1 Basic Cleaning and Schema Alignment"
   ]
  },
  {
   "cell_type": "code",
   "execution_count": null,
   "id": "5a5fea0e",
   "metadata": {},
   "outputs": [
    {
     "name": "stdout",
     "output_type": "stream",
     "text": [
      "gender done\n",
      "family_history done\n",
      "hypertension done\n",
      "asthma done\n",
      "cirrhosis done\n",
      "other_cancer done\n"
     ]
    }
   ],
   "source": [
    "#The outcome prevalence and missingness\n",
    "TARGET = \"survived\"  #target: 1 = survived, 0 = died\n",
    "\n",
    "#Creating a copy of the raw DataFrame\n",
    "df = df_raw.copy()\n",
    "\n",
    "#Standardizing column names\n",
    "df.columns = [c.strip().replace(\" \", \"_\").replace(\"-\", \"_\")\n",
    "              for c in df.columns]\n",
    "\n",
    "#Drop ID column\n",
    "if df.shape[1] > 0:\n",
    "    df = df.drop(columns=[df.columns[0]])\n",
    "\n",
    "\n",
    "#Helper to change various binary encodings to 0/1\n",
    "def to_binary(s: pd.Series) -> pd.Series:\n",
    "    if s.dtype == \"O\":\n",
    "        mapped = s.astype(str).str.strip().str.lower().map({\n",
    "            \"1\": 1, \"0\": 0,\n",
    "            \"y\": 1, \"n\": 0,\n",
    "            \"yes\": 1, \"no\": 0,\n",
    "            \"true\": 1, \"false\": 0,\n",
    "            \"male\":1, \"female\":0\n",
    "        })\n",
    "        s = pd.to_numeric(mapped, errors=\"coerce\")\n",
    "    else:\n",
    "        s = pd.to_numeric(s, errors=\"coerce\")\n",
    "    return (s.fillna(0) > 0).astype(int)\n",
    "\n",
    "\n",
    "def to_date(dt: pd.Series) -> pd.Series: \n",
    "    return pd.to_datetime(dt, errors='coerce')\n",
    "   \n",
    "#ensure conversion to binary \n",
    "binary_cols = ['gender', 'family_history', 'hypertension', 'asthma', 'cirrhosis', 'other_cancer']\n",
    "for col in binary_cols:\n",
    "    df[col] = to_binary(df[col])\n",
    "    print(f\"{col} done\")\n",
    "\n",
    "#conversion to datetime\n",
    "df[\"diagnosis_date\"] = to_date(df[\"diagnosis_date\"])\n",
    "df[\"end_treatment_date\"] = to_date(df[\"end_treatment_date\"])\n",
    "\n",
    "#one hot encoding for necessary columns\n",
    "cat_cols = ['smoking_status', 'treatment_type']      #categorical columns\n",
    "df = pd.get_dummies(df, columns=cat_cols, drop_first=False)\n",
    "\n",
    "#ordinal encoding for cancer_stage\n",
    "stage_map = {\n",
    "    \"Stage I\": 1,\n",
    "    \"Stage II\": 2,\n",
    "    \"Stage III\": 3,\n",
    "    \"Stage IV\": 4\n",
    "}\n",
    "df[\"cancer_stage\"] = df[\"cancer_stage\"].map(stage_map)\n",
    "\n",
    "\n",
    "#for better readability\n",
    "rename_dict = {\n",
    "    'smoking_status_Current Smoker': 'smoker_current',\n",
    "    'smoking_status_Former Smoker': 'smoker_former',\n",
    "    'smoking_status_Never Smoked': 'smoker_never',\n",
    "    'smoking_status_Passive Smoker': 'smoker_passive',\n",
    "    'treatment_type_Chemotherapy': 'treat_chemo',\n",
    "    'treatment_type_Combined': 'treat_combined',\n",
    "    'treatment_type_Radiation': 'treat_radiation',\n",
    "    'treatment_type_Surgery': 'treat_surgery'\n",
    "}\n",
    "df.rename(columns=rename_dict, inplace=True)\n",
    "\n"
   ]
  },
  {
   "cell_type": "code",
   "execution_count": 93,
   "id": "2fcdb9df",
   "metadata": {},
   "outputs": [
    {
     "name": "stdout",
     "output_type": "stream",
     "text": [
      "<class 'pandas.core.frame.DataFrame'>\n",
      "RangeIndex: 890000 entries, 0 to 889999\n",
      "Data columns (total 22 columns):\n",
      " #   Column              Non-Null Count   Dtype         \n",
      "---  ------              --------------   -----         \n",
      " 0   age                 890000 non-null  float64       \n",
      " 1   gender              890000 non-null  int32         \n",
      " 2   country             890000 non-null  object        \n",
      " 3   diagnosis_date      890000 non-null  datetime64[ns]\n",
      " 4   cancer_stage        890000 non-null  int64         \n",
      " 5   family_history      890000 non-null  int32         \n",
      " 6   bmi                 890000 non-null  float64       \n",
      " 7   cholesterol_level   890000 non-null  int64         \n",
      " 8   hypertension        890000 non-null  int32         \n",
      " 9   asthma              890000 non-null  int32         \n",
      " 10  cirrhosis           890000 non-null  int32         \n",
      " 11  other_cancer        890000 non-null  int32         \n",
      " 12  end_treatment_date  890000 non-null  datetime64[ns]\n",
      " 13  survived            890000 non-null  int64         \n",
      " 14  smoker_current      890000 non-null  uint8         \n",
      " 15  smoker_former       890000 non-null  uint8         \n",
      " 16  smoker_never        890000 non-null  uint8         \n",
      " 17  smoker_passive      890000 non-null  uint8         \n",
      " 18  treat_chemo         890000 non-null  uint8         \n",
      " 19  treat_combined      890000 non-null  uint8         \n",
      " 20  treat_radiation     890000 non-null  uint8         \n",
      " 21  treat_surgery       890000 non-null  uint8         \n",
      "dtypes: datetime64[ns](2), float64(2), int32(6), int64(3), object(1), uint8(8)\n",
      "memory usage: 81.5+ MB\n"
     ]
    }
   ],
   "source": [
    "df.info()"
   ]
  },
  {
   "cell_type": "markdown",
   "id": "bfbe1b6e",
   "metadata": {},
   "source": [
    "## 3. Exploratory Data Analysis"
   ]
  },
  {
   "cell_type": "code",
   "execution_count": 94,
   "id": "7af6a30d",
   "metadata": {},
   "outputs": [
    {
     "name": "stdout",
     "output_type": "stream",
     "text": [
      "(890000, 22)\n",
      "<class 'pandas.core.frame.DataFrame'>\n",
      "RangeIndex: 890000 entries, 0 to 889999\n",
      "Data columns (total 22 columns):\n",
      " #   Column              Non-Null Count   Dtype         \n",
      "---  ------              --------------   -----         \n",
      " 0   age                 890000 non-null  float64       \n",
      " 1   gender              890000 non-null  int32         \n",
      " 2   country             890000 non-null  object        \n",
      " 3   diagnosis_date      890000 non-null  datetime64[ns]\n",
      " 4   cancer_stage        890000 non-null  int64         \n",
      " 5   family_history      890000 non-null  int32         \n",
      " 6   bmi                 890000 non-null  float64       \n",
      " 7   cholesterol_level   890000 non-null  int64         \n",
      " 8   hypertension        890000 non-null  int32         \n",
      " 9   asthma              890000 non-null  int32         \n",
      " 10  cirrhosis           890000 non-null  int32         \n",
      " 11  other_cancer        890000 non-null  int32         \n",
      " 12  end_treatment_date  890000 non-null  datetime64[ns]\n",
      " 13  survived            890000 non-null  int64         \n",
      " 14  smoker_current      890000 non-null  uint8         \n",
      " 15  smoker_former       890000 non-null  uint8         \n",
      " 16  smoker_never        890000 non-null  uint8         \n",
      " 17  smoker_passive      890000 non-null  uint8         \n",
      " 18  treat_chemo         890000 non-null  uint8         \n",
      " 19  treat_combined      890000 non-null  uint8         \n",
      " 20  treat_radiation     890000 non-null  uint8         \n",
      " 21  treat_surgery       890000 non-null  uint8         \n",
      "dtypes: datetime64[ns](2), float64(2), int32(6), int64(3), object(1), uint8(8)\n",
      "memory usage: 81.5+ MB\n",
      "\n",
      "None \n",
      "\n",
      "\n"
     ]
    },
    {
     "data": {
      "application/vnd.microsoft.datawrangler.viewer.v0+json": {
       "columns": [
        {
         "name": "index",
         "rawType": "object",
         "type": "string"
        },
        {
         "name": "count",
         "rawType": "float64",
         "type": "float"
        },
        {
         "name": "mean",
         "rawType": "float64",
         "type": "float"
        },
        {
         "name": "std",
         "rawType": "float64",
         "type": "float"
        },
        {
         "name": "min",
         "rawType": "float64",
         "type": "float"
        },
        {
         "name": "25%",
         "rawType": "float64",
         "type": "float"
        },
        {
         "name": "50%",
         "rawType": "float64",
         "type": "float"
        },
        {
         "name": "75%",
         "rawType": "float64",
         "type": "float"
        },
        {
         "name": "max",
         "rawType": "float64",
         "type": "float"
        }
       ],
       "ref": "32deb73c-5830-4c46-bb8d-7653ebf3f62e",
       "rows": [
        [
         "age",
         "890000.0",
         "55.00700786516854",
         "9.994484500405086",
         "4.0",
         "48.0",
         "55.0",
         "62.0",
         "104.0"
        ],
        [
         "gender",
         "890000.0",
         "0.5001505617977529",
         "0.5000002582302447",
         "0.0",
         "0.0",
         "1.0",
         "1.0",
         "1.0"
        ],
        [
         "cancer_stage",
         "890000.0",
         "2.5001483146067414",
         "1.118077820109481",
         "1.0",
         "1.0",
         "3.0",
         "4.0",
         "4.0"
        ],
        [
         "family_history",
         "890000.0",
         "0.49979662921348317",
         "0.5000002395394114",
         "0.0",
         "0.0",
         "0.0",
         "1.0",
         "1.0"
        ],
        [
         "bmi",
         "890000.0",
         "30.49417157303371",
         "8.368539113018532",
         "16.0",
         "23.3",
         "30.5",
         "37.7",
         "45.0"
        ],
        [
         "cholesterol_level",
         "890000.0",
         "233.63391573033707",
         "43.432277822748375",
         "150.0",
         "196.0",
         "242.0",
         "271.0",
         "300.0"
        ],
        [
         "hypertension",
         "890000.0",
         "0.7500235955056179",
         "0.43299932142161685",
         "0.0",
         "1.0",
         "1.0",
         "1.0",
         "1.0"
        ],
        [
         "asthma",
         "890000.0",
         "0.46974044943820226",
         "0.4990838000478271",
         "0.0",
         "0.0",
         "0.0",
         "1.0",
         "1.0"
        ],
        [
         "cirrhosis",
         "890000.0",
         "0.2259561797752809",
         "0.4182106898606243",
         "0.0",
         "0.0",
         "0.0",
         "0.0",
         "1.0"
        ],
        [
         "other_cancer",
         "890000.0",
         "0.08815730337078652",
         "0.2835236913454859",
         "0.0",
         "0.0",
         "0.0",
         "0.0",
         "1.0"
        ],
        [
         "survived",
         "890000.0",
         "0.22022921348314606",
         "0.41440137543824784",
         "0.0",
         "0.0",
         "0.0",
         "0.0",
         "1.0"
        ],
        [
         "smoker_current",
         "890000.0",
         "0.24932359550561797",
         "0.4326217175820534",
         "0.0",
         "0.0",
         "0.0",
         "0.0",
         "1.0"
        ],
        [
         "smoker_former",
         "890000.0",
         "0.24964157303370788",
         "0.4328058092491942",
         "0.0",
         "0.0",
         "0.0",
         "0.0",
         "1.0"
        ],
        [
         "smoker_never",
         "890000.0",
         "0.2502820224719101",
         "0.433175648590759",
         "0.0",
         "0.0",
         "0.0",
         "1.0",
         "1.0"
        ],
        [
         "smoker_passive",
         "890000.0",
         "0.25075280898876406",
         "0.43344670822338993",
         "0.0",
         "0.0",
         "0.0",
         "1.0",
         "1.0"
        ],
        [
         "treat_chemo",
         "890000.0",
         "0.2508561797752809",
         "0.4335061337494589",
         "0.0",
         "0.0",
         "0.0",
         "1.0",
         "1.0"
        ],
        [
         "treat_combined",
         "890000.0",
         "0.2501224719101124",
         "0.43308363129870087",
         "0.0",
         "0.0",
         "0.0",
         "1.0",
         "1.0"
        ],
        [
         "treat_radiation",
         "890000.0",
         "0.24816629213483146",
         "0.4319490632277407",
         "0.0",
         "0.0",
         "0.0",
         "0.0",
         "1.0"
        ],
        [
         "treat_surgery",
         "890000.0",
         "0.25085505617977527",
         "0.43350548799612526",
         "0.0",
         "0.0",
         "0.0",
         "1.0",
         "1.0"
        ]
       ],
       "shape": {
        "columns": 8,
        "rows": 19
       }
      },
      "text/html": [
       "<div>\n",
       "<style scoped>\n",
       "    .dataframe tbody tr th:only-of-type {\n",
       "        vertical-align: middle;\n",
       "    }\n",
       "\n",
       "    .dataframe tbody tr th {\n",
       "        vertical-align: top;\n",
       "    }\n",
       "\n",
       "    .dataframe thead th {\n",
       "        text-align: right;\n",
       "    }\n",
       "</style>\n",
       "<table border=\"1\" class=\"dataframe\">\n",
       "  <thead>\n",
       "    <tr style=\"text-align: right;\">\n",
       "      <th></th>\n",
       "      <th>count</th>\n",
       "      <th>mean</th>\n",
       "      <th>std</th>\n",
       "      <th>min</th>\n",
       "      <th>25%</th>\n",
       "      <th>50%</th>\n",
       "      <th>75%</th>\n",
       "      <th>max</th>\n",
       "    </tr>\n",
       "  </thead>\n",
       "  <tbody>\n",
       "    <tr>\n",
       "      <th>age</th>\n",
       "      <td>890000.0</td>\n",
       "      <td>55.007008</td>\n",
       "      <td>9.994485</td>\n",
       "      <td>4.0</td>\n",
       "      <td>48.0</td>\n",
       "      <td>55.0</td>\n",
       "      <td>62.0</td>\n",
       "      <td>104.0</td>\n",
       "    </tr>\n",
       "    <tr>\n",
       "      <th>gender</th>\n",
       "      <td>890000.0</td>\n",
       "      <td>0.500151</td>\n",
       "      <td>0.500000</td>\n",
       "      <td>0.0</td>\n",
       "      <td>0.0</td>\n",
       "      <td>1.0</td>\n",
       "      <td>1.0</td>\n",
       "      <td>1.0</td>\n",
       "    </tr>\n",
       "    <tr>\n",
       "      <th>cancer_stage</th>\n",
       "      <td>890000.0</td>\n",
       "      <td>2.500148</td>\n",
       "      <td>1.118078</td>\n",
       "      <td>1.0</td>\n",
       "      <td>1.0</td>\n",
       "      <td>3.0</td>\n",
       "      <td>4.0</td>\n",
       "      <td>4.0</td>\n",
       "    </tr>\n",
       "    <tr>\n",
       "      <th>family_history</th>\n",
       "      <td>890000.0</td>\n",
       "      <td>0.499797</td>\n",
       "      <td>0.500000</td>\n",
       "      <td>0.0</td>\n",
       "      <td>0.0</td>\n",
       "      <td>0.0</td>\n",
       "      <td>1.0</td>\n",
       "      <td>1.0</td>\n",
       "    </tr>\n",
       "    <tr>\n",
       "      <th>bmi</th>\n",
       "      <td>890000.0</td>\n",
       "      <td>30.494172</td>\n",
       "      <td>8.368539</td>\n",
       "      <td>16.0</td>\n",
       "      <td>23.3</td>\n",
       "      <td>30.5</td>\n",
       "      <td>37.7</td>\n",
       "      <td>45.0</td>\n",
       "    </tr>\n",
       "    <tr>\n",
       "      <th>cholesterol_level</th>\n",
       "      <td>890000.0</td>\n",
       "      <td>233.633916</td>\n",
       "      <td>43.432278</td>\n",
       "      <td>150.0</td>\n",
       "      <td>196.0</td>\n",
       "      <td>242.0</td>\n",
       "      <td>271.0</td>\n",
       "      <td>300.0</td>\n",
       "    </tr>\n",
       "    <tr>\n",
       "      <th>hypertension</th>\n",
       "      <td>890000.0</td>\n",
       "      <td>0.750024</td>\n",
       "      <td>0.432999</td>\n",
       "      <td>0.0</td>\n",
       "      <td>1.0</td>\n",
       "      <td>1.0</td>\n",
       "      <td>1.0</td>\n",
       "      <td>1.0</td>\n",
       "    </tr>\n",
       "    <tr>\n",
       "      <th>asthma</th>\n",
       "      <td>890000.0</td>\n",
       "      <td>0.469740</td>\n",
       "      <td>0.499084</td>\n",
       "      <td>0.0</td>\n",
       "      <td>0.0</td>\n",
       "      <td>0.0</td>\n",
       "      <td>1.0</td>\n",
       "      <td>1.0</td>\n",
       "    </tr>\n",
       "    <tr>\n",
       "      <th>cirrhosis</th>\n",
       "      <td>890000.0</td>\n",
       "      <td>0.225956</td>\n",
       "      <td>0.418211</td>\n",
       "      <td>0.0</td>\n",
       "      <td>0.0</td>\n",
       "      <td>0.0</td>\n",
       "      <td>0.0</td>\n",
       "      <td>1.0</td>\n",
       "    </tr>\n",
       "    <tr>\n",
       "      <th>other_cancer</th>\n",
       "      <td>890000.0</td>\n",
       "      <td>0.088157</td>\n",
       "      <td>0.283524</td>\n",
       "      <td>0.0</td>\n",
       "      <td>0.0</td>\n",
       "      <td>0.0</td>\n",
       "      <td>0.0</td>\n",
       "      <td>1.0</td>\n",
       "    </tr>\n",
       "    <tr>\n",
       "      <th>survived</th>\n",
       "      <td>890000.0</td>\n",
       "      <td>0.220229</td>\n",
       "      <td>0.414401</td>\n",
       "      <td>0.0</td>\n",
       "      <td>0.0</td>\n",
       "      <td>0.0</td>\n",
       "      <td>0.0</td>\n",
       "      <td>1.0</td>\n",
       "    </tr>\n",
       "    <tr>\n",
       "      <th>smoker_current</th>\n",
       "      <td>890000.0</td>\n",
       "      <td>0.249324</td>\n",
       "      <td>0.432622</td>\n",
       "      <td>0.0</td>\n",
       "      <td>0.0</td>\n",
       "      <td>0.0</td>\n",
       "      <td>0.0</td>\n",
       "      <td>1.0</td>\n",
       "    </tr>\n",
       "    <tr>\n",
       "      <th>smoker_former</th>\n",
       "      <td>890000.0</td>\n",
       "      <td>0.249642</td>\n",
       "      <td>0.432806</td>\n",
       "      <td>0.0</td>\n",
       "      <td>0.0</td>\n",
       "      <td>0.0</td>\n",
       "      <td>0.0</td>\n",
       "      <td>1.0</td>\n",
       "    </tr>\n",
       "    <tr>\n",
       "      <th>smoker_never</th>\n",
       "      <td>890000.0</td>\n",
       "      <td>0.250282</td>\n",
       "      <td>0.433176</td>\n",
       "      <td>0.0</td>\n",
       "      <td>0.0</td>\n",
       "      <td>0.0</td>\n",
       "      <td>1.0</td>\n",
       "      <td>1.0</td>\n",
       "    </tr>\n",
       "    <tr>\n",
       "      <th>smoker_passive</th>\n",
       "      <td>890000.0</td>\n",
       "      <td>0.250753</td>\n",
       "      <td>0.433447</td>\n",
       "      <td>0.0</td>\n",
       "      <td>0.0</td>\n",
       "      <td>0.0</td>\n",
       "      <td>1.0</td>\n",
       "      <td>1.0</td>\n",
       "    </tr>\n",
       "    <tr>\n",
       "      <th>treat_chemo</th>\n",
       "      <td>890000.0</td>\n",
       "      <td>0.250856</td>\n",
       "      <td>0.433506</td>\n",
       "      <td>0.0</td>\n",
       "      <td>0.0</td>\n",
       "      <td>0.0</td>\n",
       "      <td>1.0</td>\n",
       "      <td>1.0</td>\n",
       "    </tr>\n",
       "    <tr>\n",
       "      <th>treat_combined</th>\n",
       "      <td>890000.0</td>\n",
       "      <td>0.250122</td>\n",
       "      <td>0.433084</td>\n",
       "      <td>0.0</td>\n",
       "      <td>0.0</td>\n",
       "      <td>0.0</td>\n",
       "      <td>1.0</td>\n",
       "      <td>1.0</td>\n",
       "    </tr>\n",
       "    <tr>\n",
       "      <th>treat_radiation</th>\n",
       "      <td>890000.0</td>\n",
       "      <td>0.248166</td>\n",
       "      <td>0.431949</td>\n",
       "      <td>0.0</td>\n",
       "      <td>0.0</td>\n",
       "      <td>0.0</td>\n",
       "      <td>0.0</td>\n",
       "      <td>1.0</td>\n",
       "    </tr>\n",
       "    <tr>\n",
       "      <th>treat_surgery</th>\n",
       "      <td>890000.0</td>\n",
       "      <td>0.250855</td>\n",
       "      <td>0.433505</td>\n",
       "      <td>0.0</td>\n",
       "      <td>0.0</td>\n",
       "      <td>0.0</td>\n",
       "      <td>1.0</td>\n",
       "      <td>1.0</td>\n",
       "    </tr>\n",
       "  </tbody>\n",
       "</table>\n",
       "</div>"
      ],
      "text/plain": [
       "                      count        mean        std    min    25%    50%  \\\n",
       "age                890000.0   55.007008   9.994485    4.0   48.0   55.0   \n",
       "gender             890000.0    0.500151   0.500000    0.0    0.0    1.0   \n",
       "cancer_stage       890000.0    2.500148   1.118078    1.0    1.0    3.0   \n",
       "family_history     890000.0    0.499797   0.500000    0.0    0.0    0.0   \n",
       "bmi                890000.0   30.494172   8.368539   16.0   23.3   30.5   \n",
       "cholesterol_level  890000.0  233.633916  43.432278  150.0  196.0  242.0   \n",
       "hypertension       890000.0    0.750024   0.432999    0.0    1.0    1.0   \n",
       "asthma             890000.0    0.469740   0.499084    0.0    0.0    0.0   \n",
       "cirrhosis          890000.0    0.225956   0.418211    0.0    0.0    0.0   \n",
       "other_cancer       890000.0    0.088157   0.283524    0.0    0.0    0.0   \n",
       "survived           890000.0    0.220229   0.414401    0.0    0.0    0.0   \n",
       "smoker_current     890000.0    0.249324   0.432622    0.0    0.0    0.0   \n",
       "smoker_former      890000.0    0.249642   0.432806    0.0    0.0    0.0   \n",
       "smoker_never       890000.0    0.250282   0.433176    0.0    0.0    0.0   \n",
       "smoker_passive     890000.0    0.250753   0.433447    0.0    0.0    0.0   \n",
       "treat_chemo        890000.0    0.250856   0.433506    0.0    0.0    0.0   \n",
       "treat_combined     890000.0    0.250122   0.433084    0.0    0.0    0.0   \n",
       "treat_radiation    890000.0    0.248166   0.431949    0.0    0.0    0.0   \n",
       "treat_surgery      890000.0    0.250855   0.433505    0.0    0.0    0.0   \n",
       "\n",
       "                     75%    max  \n",
       "age                 62.0  104.0  \n",
       "gender               1.0    1.0  \n",
       "cancer_stage         4.0    4.0  \n",
       "family_history       1.0    1.0  \n",
       "bmi                 37.7   45.0  \n",
       "cholesterol_level  271.0  300.0  \n",
       "hypertension         1.0    1.0  \n",
       "asthma               1.0    1.0  \n",
       "cirrhosis            0.0    1.0  \n",
       "other_cancer         0.0    1.0  \n",
       "survived             0.0    1.0  \n",
       "smoker_current       0.0    1.0  \n",
       "smoker_former        0.0    1.0  \n",
       "smoker_never         1.0    1.0  \n",
       "smoker_passive       1.0    1.0  \n",
       "treat_chemo          1.0    1.0  \n",
       "treat_combined       1.0    1.0  \n",
       "treat_radiation      0.0    1.0  \n",
       "treat_surgery        1.0    1.0  "
      ]
     },
     "execution_count": 94,
     "metadata": {},
     "output_type": "execute_result"
    }
   ],
   "source": [
    "print(df.shape)\n",
    "print(f\"\\n{df.info()} \\n\\n\")\n",
    "\n",
    "df.describe().T"
   ]
  },
  {
   "cell_type": "markdown",
   "id": "114887df",
   "metadata": {},
   "source": [
    "### 3.0 Country Distribution"
   ]
  },
  {
   "cell_type": "code",
   "execution_count": null,
   "id": "e90eef09",
   "metadata": {},
   "outputs": [],
   "source": [
    "print(df['country'].nunique())\n",
    "print(df['country'].unique())\n",
    "#print(df['country'].value_counts())"
   ]
  },
  {
   "cell_type": "markdown",
   "id": "1e6330eb",
   "metadata": {},
   "source": [
    "### 3.1 Target Distribution"
   ]
  },
  {
   "cell_type": "markdown",
   "id": "cbe064f1",
   "metadata": {},
   "source": [
    "196004/890000 patients survived lung cancer, which is ~22.02% (barely 1/5th) of patients logged in this dataset. \n",
    "\n",
    "For our next steps, this distribution of the classes (extremely unbalanced) means we will need to correct our imbalance through resampling strategies by either oversampling (SMOTE) or undersampling non-survivors in order to balance (but this would result in informaiton loss, so best not). Depending on the future model used, we could also explore adjusting class weights and ensure we are utilizing specific metrics (f1, roc, recall). "
   ]
  },
  {
   "cell_type": "code",
   "execution_count": null,
   "id": "7a6343a4",
   "metadata": {},
   "outputs": [
    {
     "name": "stdout",
     "output_type": "stream",
     "text": [
      "Outcome counts:\n",
      "0    693996\n",
      "1    196004\n",
      "Name: survived, dtype: int64\n",
      "\n",
      "Prevalence: 22.02%\n",
      "Patients who survived per 1000: 220.2\n",
      "\n",
      "\n"
     ]
    },
    {
     "data": {
      "image/png": "[encoded data removed]",
      "text/plain": [
       "<Figure size 400x200 with 1 Axes>"
      ]
     },
     "metadata": {},
     "output_type": "display_data"
    }
   ],
   "source": [
    "#Outcome prevalence\n",
    "counts = df_raw[TARGET].value_counts(dropna=False)\n",
    "prevalence_percent = counts[1] / counts.sum() * 100\n",
    "positives_per_1000 = counts[1] / counts.sum() * 1000\n",
    "\n",
    "print(\"Outcome counts:\")\n",
    "print(counts)\n",
    "print(f\"\\nPrevalence: {prevalence_percent:.2f}%\")\n",
    "print(f\"Patients who survived per 1000: {positives_per_1000:.1f}\\n\\n\") \n",
    "\n",
    "plt.figure(figsize=(4,2))\n",
    "df['survived'].value_counts(normalize=True).plot(kind='bar');\n"
   ]
  },
  {
   "cell_type": "code",
   "execution_count": 96,
   "id": "71baa501",
   "metadata": {},
   "outputs": [
    {
     "name": "stdout",
     "output_type": "stream",
     "text": [
      "(444866, 22)\n",
      "(445134, 22)\n"
     ]
    }
   ],
   "source": [
    "df_female = df[df['gender'] == 0]\n",
    "df_male = df[df['gender']== 1]\n",
    "print(df_female.shape)\n",
    "print(df_male.shape)\n"
   ]
  },
  {
   "cell_type": "markdown",
   "id": "66ec009e",
   "metadata": {},
   "source": [
    "### 3.2 Univariate Analysis"
   ]
  },
  {
   "cell_type": "markdown",
   "id": "fb47d444",
   "metadata": {},
   "source": [
    "#### 3.2.1 Continuous Variables"
   ]
  },
  {
   "cell_type": "markdown",
   "id": "437f4b95",
   "metadata": {},
   "source": [
    "**Age**\n",
    "\n",
    "Most of our patients are wihtin 48-62 years old (25-75%), with the average patient being 55.0. The youngest patient is 4 and the oldest was 104, meaning this data is likely very skewed as the majority of the patients are within 40-75 years but there are a few extreme outliers. This indicates that the presence of younger patients are rare and can point to data anomalies. "
   ]
  },
  {
   "cell_type": "code",
   "execution_count": 97,
   "id": "a9c64357",
   "metadata": {},
   "outputs": [
    {
     "data": {
      "image/png": "[encoded data removed]",
      "text/plain": [
       "<Figure size 400x200 with 1 Axes>"
      ]
     },
     "metadata": {},
     "output_type": "display_data"
    }
   ],
   "source": [
    "plt.figure(figsize=(4,2))\n",
    "sns.histplot(df['age'], bins=20, kde=True);\n",
    "plt.show()"
   ]
  },
  {
   "cell_type": "markdown",
   "id": "a810694b",
   "metadata": {},
   "source": [
    "**Female/Male Age**\n",
    "\n",
    "The means and medians are nearly identical, around ~55 years, along with the distributions spread (within 48-62 range) and the quartiles. The extremes/outliers are barely different, with female 7-104 and male 4-101, which are all outliers. This indicates that age between the genders will do little to explain survival outcomes. "
   ]
  },
  {
   "cell_type": "code",
   "execution_count": 98,
   "id": "03fb6028",
   "metadata": {},
   "outputs": [
    {
     "data": {
      "image/png": "[encoded data removed]",
      "text/plain": [
       "<Figure size 400x300 with 1 Axes>"
      ]
     },
     "metadata": {},
     "output_type": "display_data"
    },
    {
     "name": "stdout",
     "output_type": "stream",
     "text": [
      "Female Age: \n",
      "count    444866.000000\n",
      "mean         55.016457\n",
      "std           9.996612\n",
      "min           7.000000\n",
      "25%          48.000000\n",
      "50%          55.000000\n",
      "75%          62.000000\n",
      "max         104.000000\n",
      "Name: age, dtype: float64\n",
      "\n",
      "Male Age: \n",
      "count    445134.000000\n",
      "mean         54.997565\n",
      "std           9.992360\n",
      "min           4.000000\n",
      "25%          48.000000\n",
      "50%          55.000000\n",
      "75%          62.000000\n",
      "max         101.000000\n",
      "Name: age, dtype: float64\n"
     ]
    }
   ],
   "source": [
    "plt.figure(figsize=(4,3))\n",
    "sns.boxplot(x='gender', y='age', data=df); \n",
    "plt.title('Age by Gender')\n",
    "plt.show()\n",
    "\n",
    "\n",
    "print(f\"Female Age: \\n{df_female['age'].describe()}\\n\")\n",
    "print(f\"Male Age: \\n{df_male['age'].describe()}\")"
   ]
  },
  {
   "cell_type": "markdown",
   "id": "52421afe",
   "metadata": {},
   "source": [
    "**BMI**\n",
    "\n",
    "The BMI of most patients is 23-37.7 (25-75%), with the average BMI being 30.4. The lower score is 16 while the higest score is 45. This data is more concentrated, with the average patient being overweight to obese, but this is to be expected as the range itself is normally within 18.5-40 (from underweight to class 3 obesity). A higher BMI is also an indicator of other risks, such as hypertension or diabetes, which would worsed the lung cancer prognosis. \n",
    "\n",
    "A more in depth analysis of BMI for women vs men should be done, as these values will signify different levels of BMI in different genders."
   ]
  },
  {
   "cell_type": "code",
   "execution_count": 99,
   "id": "d9155d3e",
   "metadata": {},
   "outputs": [
    {
     "data": {
      "image/png": "[encoded data removed]",
      "text/plain": [
       "<Figure size 400x200 with 1 Axes>"
      ]
     },
     "metadata": {},
     "output_type": "display_data"
    }
   ],
   "source": [
    "plt.figure(figsize=(4,2))\n",
    "plt.ylabel('Density')\n",
    "sns.histplot(df['bmi'], bins=20, kde=True);\n",
    "plt.show() "
   ]
  },
  {
   "cell_type": "markdown",
   "id": "92df27cb",
   "metadata": {},
   "source": [
    "**Female/Male BMI**\n",
    "\n",
    "The means and medians for both genders are nearly identical (~30.5), so overall the distributions (including the spread, quartiles) for BMI are nearly the same. This still indicates that regardless of gender, patients are overweight to obese. There is no strong gender difference when it comes to BMI, so this will not assist with explain gender specific survival differences.  "
   ]
  },
  {
   "cell_type": "code",
   "execution_count": 100,
   "id": "48d31471",
   "metadata": {},
   "outputs": [
    {
     "data": {
      "image/png": "[encoded data removed]",
      "text/plain": [
       "<Figure size 400x300 with 1 Axes>"
      ]
     },
     "metadata": {},
     "output_type": "display_data"
    },
    {
     "name": "stdout",
     "output_type": "stream",
     "text": [
      "Female BMI: \n",
      "count    444866.000000\n",
      "mean         30.489951\n",
      "std           8.369305\n",
      "min          16.000000\n",
      "25%          23.200000\n",
      "50%          30.500000\n",
      "75%          37.700000\n",
      "max          45.000000\n",
      "Name: bmi, dtype: float64\n",
      "\n",
      "Male BMI: \n",
      "count    445134.000000\n",
      "mean         30.498389\n",
      "std           8.367781\n",
      "min          16.000000\n",
      "25%          23.300000\n",
      "50%          30.500000\n",
      "75%          37.800000\n",
      "max          45.000000\n",
      "Name: bmi, dtype: float64\n"
     ]
    }
   ],
   "source": [
    "plt.figure(figsize=(4,3))\n",
    "sns.boxplot(x='gender', y='bmi', data=df); \n",
    "plt.title('BMI by Gender')\n",
    "plt.show()\n",
    "\n",
    "\n",
    "print(f\"Female BMI: \\n{df_female['bmi'].describe()}\\n\")\n",
    "print(f\"Male BMI: \\n{df_male['bmi'].describe()}\")"
   ]
  },
  {
   "cell_type": "markdown",
   "id": "c57a9028",
   "metadata": {},
   "source": [
    "**Cholesterol Level**\n",
    "\n",
    "The cholesterol levels of patients is within 196-271% (25-75%), with the average level being 233.63. This data reveals that the average person diagnosed with lung cancer has above average cholesterol levels, as a desirable level is less than 200mg/dL and high levels are 200-239 mg/dL -- yet the majority of our patient pool is between 196-271 (highest being 300 and lowest being 150), signifying there could be a correlation between high cholesterol and a lung cancer diagnosis. "
   ]
  },
  {
   "cell_type": "code",
   "execution_count": 101,
   "id": "0a0c4c5a",
   "metadata": {},
   "outputs": [
    {
     "data": {
      "image/png": "[encoded data removed]",
      "text/plain": [
       "<Figure size 400x200 with 1 Axes>"
      ]
     },
     "metadata": {},
     "output_type": "display_data"
    }
   ],
   "source": [
    "plt.figure(figsize=(4,2))\n",
    "sns.histplot(df['cholesterol_level'], bins=20, kde=True);\n",
    "plt.show() "
   ]
  },
  {
   "cell_type": "markdown",
   "id": "9ba6cacf",
   "metadata": {},
   "source": [
    "**Female/Male Cholesterol**\n",
    "\n",
    "Once again, medians (242) and means (~233.6) are nearly identical between the genders, along with the spread (std=43), quartiles (196-271 mg/dL, with some extremes from 150-300). This indicates that again, regardless of gender, most patients are above the recommended level. "
   ]
  },
  {
   "cell_type": "code",
   "execution_count": 102,
   "id": "dd6cbf53",
   "metadata": {},
   "outputs": [
    {
     "data": {
      "image/png": "[encoded data removed]",
      "text/plain": [
       "<Figure size 400x300 with 1 Axes>"
      ]
     },
     "metadata": {},
     "output_type": "display_data"
    },
    {
     "name": "stdout",
     "output_type": "stream",
     "text": [
      "Female Cholesterol: \n",
      "count    444866.000000\n",
      "mean        233.624183\n",
      "std          43.445918\n",
      "min         150.000000\n",
      "25%         196.000000\n",
      "50%         242.000000\n",
      "75%         271.000000\n",
      "max         300.000000\n",
      "Name: cholesterol_level, dtype: float64\n",
      "\n",
      "Male Cholesterol: \n",
      "count    445134.000000\n",
      "mean        233.643642\n",
      "std          43.418688\n",
      "min         150.000000\n",
      "25%         196.000000\n",
      "50%         242.000000\n",
      "75%         271.000000\n",
      "max         300.000000\n",
      "Name: cholesterol_level, dtype: float64\n"
     ]
    }
   ],
   "source": [
    "plt.figure(figsize=(4,3))\n",
    "sns.boxplot(x='gender', y='cholesterol_level', data=df); \n",
    "plt.title('Cholesterol by Gender')\n",
    "plt.show()\n",
    "\n",
    "\n",
    "print(f\"Female Cholesterol: \\n{df_female['cholesterol_level'].describe()}\\n\")\n",
    "print(f\"Male Cholesterol: \\n{df_male['cholesterol_level'].describe()}\")"
   ]
  },
  {
   "cell_type": "markdown",
   "id": "4de2a1ed",
   "metadata": {},
   "source": [
    "#### 3.2.2 Binary Variables"
   ]
  },
  {
   "cell_type": "markdown",
   "id": "8a7c3082",
   "metadata": {},
   "source": [
    "\n",
    "This graph reveals the prevelance of 1's (yes's) within our data set for hypertension, family history (of cancer), asthma, cirrhosis, survived, and other cancers (being detected ontop of lung cancer). We will discuss gender and survived, seperately.\n",
    "\n",
    "**Hypertension**\n",
    "\n",
    "667521 out of 890000 (75%) of patients diagnosed with lung cancer also had hypertension (high blood pressure), which is another serious health issue. This typically follows a life of bad diets, minimal exersise, or simply genetics/age. This much higher than hypertension prevelance in Europe (30-45% of adults), which is consistent with lung cancer patients being older with other risk factors. This reinforces that cardiovascular risks are more common in lung cancer patients in Europe. \n",
    "\n",
    "**Family History**\n",
    "\n",
    "444819 out of 890000 (49.97%) of patients had a existing family history of cancer. This is still quite high, indicating genetic predispositions (and potentially better record keeping of medical records within healthcare systems/family records, which can vary from region to region). \n",
    "\n",
    "**Asthma**\n",
    "\n",
    "418069 out of 890000 (46.97%) of patients had a diagnosis of asthma (another lung/breathing disorder). This is much higher than the overall prevelance of asthma in Europe, which is only 5-10% of the general population. This shows a strong correlation between chronic respiratory conditions and a risk of lung cancer. It could also be likely that patients already diagnosed with asthma were already getting more frequent checkups, allowing for the detection of lung cancer to be more likely. \n",
    "\n",
    "**Cirrhosis**\n",
    "\n",
    "201101 our of 890000 (22.59%) of patients have cirrhosis, which is a condition that scars and damages the liver (leads to hypertension, blocks ability to filter toxisn/process nutrients/produce bile/etc.). Considering Europe, especially central/eastern regions, are already facing some of the highest cirrhosis rates globally due to alcohol consumption, this follows the same track that LC patients would also face an increased likelihood of a diagnosis. This is also very clinically significant as cirrhosis will reduce tolerance to chemotheray. \n",
    "\n",
    "**Other Cancer** \n",
    "78460 out of 890000 (8.81%) of patients had another diagnosis for cancer (ontop of lung cancer). Considering Europe has an ageing population and a high long-term smoking population, indicating cancer rates will increase in likelihood. \n"
   ]
  },
  {
   "cell_type": "code",
   "execution_count": 103,
   "id": "5299557a",
   "metadata": {},
   "outputs": [
    {
     "data": {
      "image/png": "[encoded data removed]",
      "text/plain": [
       "<Figure size 400x200 with 1 Axes>"
      ]
     },
     "metadata": {},
     "output_type": "display_data"
    }
   ],
   "source": [
    "plt.figure(figsize=(4,2))\n",
    "df[binary_cols].sum().sort_values().plot(kind='barh');\n",
    "plt.show()"
   ]
  },
  {
   "cell_type": "code",
   "execution_count": 104,
   "id": "70c2376c",
   "metadata": {},
   "outputs": [
    {
     "name": "stdout",
     "output_type": "stream",
     "text": [
      "family_history: \n",
      "No     445181\n",
      "Yes    444819\n",
      "Name: family_history, dtype: int64\n",
      "Prevalence %: 49.979662921348314\n",
      "Positives per 1000: 499.7966292134832\n",
      "\n",
      "\n",
      "hypertension: \n",
      "1    667521\n",
      "0    222479\n",
      "Name: hypertension, dtype: int64\n",
      "Prevalence %: 75.00235955056179\n",
      "Positives per 1000: 750.0235955056179\n",
      "\n",
      "\n",
      "asthma: \n",
      "0    471931\n",
      "1    418069\n",
      "Name: asthma, dtype: int64\n",
      "Prevalence %: 46.974044943820225\n",
      "Positives per 1000: 469.74044943820223\n",
      "\n",
      "\n",
      "cirrhosis: \n",
      "0    688899\n",
      "1    201101\n",
      "Name: cirrhosis, dtype: int64\n",
      "Prevalence %: 22.59561797752809\n",
      "Positives per 1000: 225.9561797752809\n",
      "\n",
      "\n",
      "other_cancer: \n",
      "0    811540\n",
      "1     78460\n",
      "Name: other_cancer, dtype: int64\n",
      "Prevalence %: 8.815730337078652\n",
      "Positives per 1000: 88.15730337078652\n",
      "\n",
      "\n"
     ]
    }
   ],
   "source": [
    "for col in binary_cols:\n",
    "    if col == \"gender\" or col == \"survived\":\n",
    "        continue\n",
    "    else:\n",
    "        counts = df_raw[col].value_counts(dropna=False)\n",
    "        prevalence_percent = counts[1] / counts.sum() * 100\n",
    "        positives_per_1000 = counts[1] / counts.sum() * 1000\n",
    "        print(f\"{col}: \\n{counts}\\nPrevalence %: {prevalence_percent}\\nPositives per 1000: {positives_per_1000}\\n\\n\")\n"
   ]
  },
  {
   "cell_type": "markdown",
   "id": "41b33c8d",
   "metadata": {},
   "source": [
    "#### 3.2.3 Categorical Variables"
   ]
  },
  {
   "cell_type": "markdown",
   "id": "b85431e2",
   "metadata": {},
   "source": [
    "**Smoking Status**\n",
    "\n",
    "The dataset split almost evenly in 4 for passive smoking (25.07%), never smoked (25.02%), former smoker (24.96%), and current smoker (24.93%). \n",
    "\n",
    "**Treatment Type** \n",
    "\n",
    "The same goes for treatment type, with chemotherapy (25.08%), surgery (25.08%), combined (25.01%), and radiation (24.81%). "
   ]
  },
  {
   "cell_type": "code",
   "execution_count": 105,
   "id": "0e797ec1",
   "metadata": {},
   "outputs": [
    {
     "name": "stdout",
     "output_type": "stream",
     "text": [
      "smoking_status:\n",
      "Passive Smoker    223170\n",
      "Never Smoked      222751\n",
      "Former Smoker     222181\n",
      "Current Smoker    221898\n",
      "Name: smoking_status, dtype: int64\n",
      "\n",
      "Prevalence %:\n",
      "Passive Smoker    25.075281\n",
      "Never Smoked      25.028202\n",
      "Former Smoker     24.964157\n",
      "Current Smoker    24.932360\n",
      "Name: smoking_status, dtype: float64\n",
      "\n",
      "Positives per 1000:\n",
      "Passive Smoker    250.752809\n",
      "Never Smoked      250.282022\n",
      "Former Smoker     249.641573\n",
      "Current Smoker    249.323596\n",
      "Name: smoking_status, dtype: float64\n",
      "\n",
      "\n",
      "treatment_type:\n",
      "Chemotherapy    223262\n",
      "Surgery         223261\n",
      "Combined        222609\n",
      "Radiation       220868\n",
      "Name: treatment_type, dtype: int64\n",
      "\n",
      "Prevalence %:\n",
      "Chemotherapy    25.085618\n",
      "Surgery         25.085506\n",
      "Combined        25.012247\n",
      "Radiation       24.816629\n",
      "Name: treatment_type, dtype: float64\n",
      "\n",
      "Positives per 1000:\n",
      "Chemotherapy    250.856180\n",
      "Surgery         250.855056\n",
      "Combined        250.122472\n",
      "Radiation       248.166292\n",
      "Name: treatment_type, dtype: float64\n",
      "\n",
      "\n"
     ]
    }
   ],
   "source": [
    "for col in ['smoking_status', 'treatment_type']:\n",
    "    counts = df_raw[col].value_counts(dropna=False)\n",
    "    prevalence_percent = (counts / counts.sum()) * 100\n",
    "    positives_per_1000 = (counts / counts.sum()) * 1000\n",
    "    print(f\"{col}:\\n{counts}\\n\\nPrevalence %:\\n{prevalence_percent}\\n\\nPositives per 1000:\\n{positives_per_1000}\\n\\n\")\n"
   ]
  },
  {
   "cell_type": "markdown",
   "id": "61a900a6",
   "metadata": {},
   "source": [
    "### 3.3 Bivariate Analysis"
   ]
  },
  {
   "cell_type": "markdown",
   "id": "70110064",
   "metadata": {},
   "source": [
    "#### 3.3.1 Continuous vs Target"
   ]
  },
  {
   "cell_type": "markdown",
   "id": "5a83f09e",
   "metadata": {},
   "source": [
    "**Here we are asking if survivors have different average values than the non suvivors.**\n",
    "\n",
    "To analyze any influence from the continuous variables on the target feature, we will be \n",
    "- Analyzing summary stats between the distribution of continuous variables between survivors and non-survivors. \n",
    "- Visualizing them through box plots to see the distributional differences\n",
    "- Performings statistical tests: t-test (compares means, assumes equal variance/normality) and mann whitney tests (non parametric, tests distribution shift)\n",
    "- Performing Cohen's d to determine effect size for mean differences "
   ]
  },
  {
   "cell_type": "markdown",
   "id": "b415d970",
   "metadata": {},
   "source": [
    "**Survival vs Age**\n",
    "\n",
    "There appears to be minimal relationship between age and survival rates, as the means are both ~55.0 and the both of the medians are 55.0, along with the quartiles (middle 50%) both being 42-62 years, which aligns with lung cancer being more commonafter 45. The one difference is the non-survivor gropu had patients as young as 4 and as old as 104, while the survivor group was within the range of 10-101 years. \n",
    "\n",
    "In the statistical tests below, the mean age differs by around ~0.03 years (essentially no difference), the t-test p=0.244 and mann-whitney u test p= 0.141 (both >0.05) show no statistically different difference, and the cohen's d= 0.003 shows a negligable effective size. Again, it is proven that survivors/non-survivors are essentially the same age on avergae. "
   ]
  },
  {
   "cell_type": "code",
   "execution_count": 106,
   "id": "894283fc",
   "metadata": {},
   "outputs": [
    {
     "data": {
      "image/png": "[encoded data removed]",
      "text/plain": [
       "<Figure size 400x200 with 1 Axes>"
      ]
     },
     "metadata": {},
     "output_type": "display_data"
    }
   ],
   "source": [
    "plt.figure(figsize=(4,2))\n",
    "sns.boxplot(x='survived', y='age', data=df);\n",
    "plt.show()"
   ]
  },
  {
   "cell_type": "code",
   "execution_count": 107,
   "id": "ee15e156",
   "metadata": {},
   "outputs": [
    {
     "name": "stdout",
     "output_type": "stream",
     "text": [
      "             count       mean       std   min   25%   50%   75%    max\n",
      "survived                                                              \n",
      "0         693996.0  55.000457  9.998431   4.0  48.0  55.0  62.0  104.0\n",
      "1         196004.0  55.030203  9.980488  10.0  48.0  55.0  62.0  101.0\n"
     ]
    }
   ],
   "source": [
    "print(df.groupby('survived')['age'].describe())"
   ]
  },
  {
   "cell_type": "code",
   "execution_count": null,
   "id": "f275172b",
   "metadata": {},
   "outputs": [
    {
     "name": "stdout",
     "output_type": "stream",
     "text": [
      "         variable  group0_mean  group1_mean  t-test_p      mw_p   cohen_d\n",
      "0  treatment_type    55.000457    55.030203  0.244597  0.141017  0.002976\n"
     ]
    }
   ],
   "source": [
    "group0 = df[df[\"survived\"] == 0]['age'].dropna()\n",
    "group1 = df[df[\"survived\"] == 1]['age'].dropna()\n",
    "\n",
    "\n",
    "def cont_tests(group0, group1):     #Reusable helper for continuous comparisons\n",
    "    results = []\n",
    "    #Assumes equal variance; we look for p<0.05\n",
    "    t_stat, t_p = ttest_ind(group0, group1, equal_var=True)\n",
    "    #Mann-Whitney test checks for distribution shift; p<0.05\n",
    "    u_stat, u_p = mannwhitneyu(group0,group1, alternative=\"two-sided\")   \n",
    "\n",
    "    #Cohen's d (0.2=small, 0.5=medium, 0.8=large)\n",
    "    mean_diff = group1.mean()-group0.mean()\n",
    "    pooled_std = np.sqrt(((len(group0)-1)*group0.std()**2 + (len(group1)-1)*group1.std()**2) /(len(group0)+len(group1)-2))\n",
    "    cohen_d = mean_diff / pooled_std  \n",
    "\n",
    "    \n",
    "    results.append({\n",
    "        \"variable\": col,\n",
    "        \"group0_mean\": group0.mean(), \"group1_mean\": group1.mean(),\n",
    "        \"t-test_p\": t_p,\n",
    "        \"mw_p\": u_p,       #mann whitney\n",
    "        \"cohen_d\": cohen_d\n",
    "    })\n",
    "\n",
    "    return results\n",
    "\n",
    "bivar_age_results = pd.DataFrame(cont_tests(group0, group1))\n",
    "print(bivar_age_results)\n",
    "\n"
   ]
  },
  {
   "cell_type": "markdown",
   "id": "6aab0037",
   "metadata": {},
   "source": [
    "**BMI vs Surivived**\n",
    "\n",
    "Mean/median BMI are nearly identical for both suvivors and non survivors (~30.49-30.5), with the spread (8.37) and quartiles being virtually the same too. This indicates that BMI alone will not explain survival outcomes but we can consider the implications of a higher BMI (which is shown in our average patient) to be side effects such as hypertension and high cholesterol. \n",
    "\n",
    "In the statistical tests below, the mean BMI differs by around ~0.0001 (so, no difference as this is 0 in practical terms), the t-test p=0.994 and mann-whitney u test p= 0.994 (both >0.05 and basically ~1) show no statistically different difference, and the cohen's d= 0.000016 shows no effect. Again, it is proven BMI has no relationship to survival in this dataset. \n"
   ]
  },
  {
   "cell_type": "code",
   "execution_count": 109,
   "id": "00e385e0",
   "metadata": {},
   "outputs": [
    {
     "data": {
      "image/png": "[encoded data removed]",
      "text/plain": [
       "<Figure size 400x200 with 1 Axes>"
      ]
     },
     "metadata": {},
     "output_type": "display_data"
    }
   ],
   "source": [
    "plt.figure(figsize=(4,2))\n",
    "sns.boxplot(x='survived', y='bmi', data=df);\n",
    "plt.show()"
   ]
  },
  {
   "cell_type": "code",
   "execution_count": 110,
   "id": "364c21a5",
   "metadata": {},
   "outputs": [
    {
     "name": "stdout",
     "output_type": "stream",
     "text": [
      "             count       mean       std   min   25%   50%   75%   max\n",
      "survived                                                             \n",
      "0         693996.0  30.494141  8.368874  16.0  23.3  30.5  37.7  45.0\n",
      "1         196004.0  30.494278  8.367376  16.0  23.2  30.5  37.7  45.0\n"
     ]
    }
   ],
   "source": [
    "print(df.groupby('survived')['bmi'].describe())"
   ]
  },
  {
   "cell_type": "code",
   "execution_count": 111,
   "id": "76ebc08c",
   "metadata": {},
   "outputs": [
    {
     "name": "stdout",
     "output_type": "stream",
     "text": [
      "         variable  group0_mean  group1_mean  t-test_p    mw_p   cohen_d\n",
      "0  treatment_type    30.494141    30.494278  0.994904  0.9943  0.000016\n"
     ]
    }
   ],
   "source": [
    "group0 = df[df[\"survived\"] == 0]['bmi'].dropna()\n",
    "group1 = df[df[\"survived\"] == 1]['bmi'].dropna()\n",
    "\n",
    "bivar_bmi_results = pd.DataFrame(cont_tests(group0, group1))\n",
    "print(bivar_bmi_results)"
   ]
  },
  {
   "cell_type": "markdown",
   "id": "aee36ae8",
   "metadata": {},
   "source": [
    "**Cholesterol vs Survived**\n",
    "\n",
    "Again, there is minimal difference between the means/medians of cholesterol levels (233.63, 242), the spread (std=43), and the quartiles (between 196-271 mg/dL) in regard to suviving. While both survivors and non suvivors had elevated levels of cholesterol but cholesterol levels alone will not determine survival outcomes in the dataset. \n",
    "\n",
    "In the statistical tests below, the mean cholesterol differs by around ~0.016 points (nothing meaningful), the t-test p=0.882 and mann-whitney u test p= 0.923 (both >0.05) show no statistically different difference, and once again the cohen's d= 0.0004 shows no effect. Again, it is proven cholesterol has no relationship to survival in this dataset. \n"
   ]
  },
  {
   "cell_type": "code",
   "execution_count": 112,
   "id": "d099165b",
   "metadata": {},
   "outputs": [
    {
     "data": {
      "image/png": "[encoded data removed]",
      "text/plain": [
       "<Figure size 400x200 with 1 Axes>"
      ]
     },
     "metadata": {},
     "output_type": "display_data"
    }
   ],
   "source": [
    "plt.figure(figsize=(4,2))\n",
    "sns.boxplot(x='survived', y='cholesterol_level', data=df);\n",
    "plt.show()"
   ]
  },
  {
   "cell_type": "code",
   "execution_count": 113,
   "id": "5821db66",
   "metadata": {},
   "outputs": [
    {
     "name": "stdout",
     "output_type": "stream",
     "text": [
      "             count        mean        std    min    25%    50%    75%    max\n",
      "survived                                                                    \n",
      "0         693996.0  233.630285  43.434564  150.0  196.0  242.0  271.0  300.0\n",
      "1         196004.0  233.646773  43.424290  150.0  196.0  242.0  271.0  300.0\n"
     ]
    }
   ],
   "source": [
    "print(df.groupby('survived')['cholesterol_level'].describe())"
   ]
  },
  {
   "cell_type": "code",
   "execution_count": 114,
   "id": "34149f07",
   "metadata": {},
   "outputs": [
    {
     "name": "stdout",
     "output_type": "stream",
     "text": [
      "         variable  group0_mean  group1_mean  t-test_p      mw_p  cohen_d\n",
      "0  treatment_type   233.630285   233.646773  0.882018  0.923347  0.00038\n"
     ]
    }
   ],
   "source": [
    "group0 = df[df[\"survived\"] == 0]['cholesterol_level'].dropna()\n",
    "group1 = df[df[\"survived\"] == 1]['cholesterol_level'].dropna()\n",
    "\n",
    "bivar_chol_results = pd.DataFrame(cont_tests(group0, group1))\n",
    "print(bivar_chol_results)"
   ]
  },
  {
   "cell_type": "markdown",
   "id": "5bab87d9",
   "metadata": {},
   "source": [
    "#### 3.3.2 Binary vs Target"
   ]
  },
  {
   "cell_type": "markdown",
   "id": "f8c38146",
   "metadata": {},
   "source": [
    "**Here we are asking if survival rates differ between different groups**\n",
    "\n",
    "To analyze any influence from the binary variables on the target feature, we will be \n",
    "- Computing survival rates for each group 0/1\n",
    "- Adding confidence intervals to show uncertainity. \n",
    "- Performing the statistical test, Chi-squared test\n"
   ]
  },
  {
   "cell_type": "markdown",
   "id": "4475f5d0",
   "metadata": {},
   "source": [
    "**Gender vs Survival**\n",
    "\n",
    "The differences between gender and survival (21.99-22.05% between male/female) indicates there is minimal influence of gender on survival. The p value is > 0.05 so this indicates that this feature does not show a statistically significant assosication with survival in this dataset. \n",
    "\n",
    "**Family History vs Survival**\n",
    "\n",
    "Again, there is little difference having or not between a family history of cancer and survival (21.9-22.07%) and the p value being >0.05 shows us no statistically significant assosication with survival in this dataset. \n",
    "\n",
    "**Hypertension vs Survival**\n",
    "\n",
    "There is no difference between having or not hypertension on survival (22.2%), and with a p value of =.958 (>0.05), we can conclude there is no statistically significant assosication with survival and hypertension in this dataset.\n",
    "\n",
    "**Asthma vs Survival**\n",
    "\n",
    "There is still minimal differences between having or not having asthma on survival rate (21.94-22.02%) and while the p value is closer to 0.05, it is still p=0.088, high enough to indicate no statistically significant assosication with survival and asthma in this dataset. \n",
    "\n",
    "**Cirrhosis vs Survival**\n",
    "\n",
    "There is minimal different between having/not having cirrhosis and survival (21.98-22.17%), with the p value still >0.05 (0.066) showing us, once again, no statistically significant assosication with survival in this dataset. \n",
    "\n",
    "\n",
    "**Other Cancer vs Survival**\n",
    "\n",
    "There is minimal different between having/not having another type of cancer diagnosis and survival (21.76-22.05%), with the p value still >0.05 (0.064), indicating no statistically significant assosication between survival and other cancer dianosis in this dataset. \n",
    "\n",
    "\n",
    "**OVERALL**\n",
    "None of the binary variables are showing much influence on survival rates, indicating we should be focusing either more on continous variables (BMI/cholesterol), treatment types, or potential combinations of features/interactions between variables. \n"
   ]
  },
  {
   "cell_type": "code",
   "execution_count": null,
   "id": "263bcfa9",
   "metadata": {},
   "outputs": [
    {
     "name": "stdout",
     "output_type": "stream",
     "text": [
      "['gender', 'family_history', 'hypertension', 'asthma', 'cirrhosis', 'other_cancer']\n",
      "gender survival rates (%):\n",
      "gender\n",
      "0    21.991341\n",
      "1    22.054482\n",
      "Name: survived, dtype: float64\n",
      "gender: p-value = 0.4739\n",
      "\n",
      "family_history survival rates (%):\n",
      "family_history\n",
      "0    21.968143\n",
      "1    22.077744\n",
      "Name: survived, dtype: float64\n",
      "family_history: p-value = 0.2131\n",
      "\n",
      "hypertension survival rates (%):\n",
      "hypertension\n",
      "0    22.018707\n",
      "1    22.024326\n",
      "Name: survived, dtype: float64\n",
      "hypertension: p-value = 0.9582\n",
      "\n",
      "asthma survival rates (%):\n",
      "asthma\n",
      "0    22.093484\n",
      "1    21.943268\n",
      "Name: survived, dtype: float64\n",
      "asthma: p-value = 0.0884\n",
      "\n",
      "cirrhosis survival rates (%):\n",
      "cirrhosis\n",
      "0    21.979129\n",
      "1    22.172938\n",
      "Name: survived, dtype: float64\n",
      "cirrhosis: p-value = 0.0655\n",
      "\n",
      "other_cancer survival rates (%):\n",
      "other_cancer\n",
      "0    22.048328\n",
      "1    21.760133\n",
      "Name: survived, dtype: float64\n",
      "other_cancer: p-value = 0.0635\n",
      "\n"
     ]
    },
    {
     "data": {
      "image/png": "[encoded data removed]",
      "text/plain": [
       "<Figure size 1800x1000 with 6 Axes>"
      ]
     },
     "metadata": {},
     "output_type": "display_data"
    }
   ],
   "source": [
    "binary_cols_1 = [col for col in binary_cols if col != \"survived\"]\n",
    "print(binary_cols_1)      #Exclude 'survived' (would compare against itself)\n",
    "\n",
    "\n",
    "for col in binary_cols_1:\n",
    "    rates = df.groupby(col)['survived'].mean() * 100    #\n",
    "    print(f\"{col} survival rates (%):\\n{rates}\")      \n",
    "\n",
    "    table = pd.crosstab(df[col], df['survived'])    #builds contingency table\n",
    "    chi2, p, dof, ex = chi2_contingency(table)       #chi squared test - p values\n",
    "    print(f\"{col}: p-value = {p:.4f}\\n\")\n",
    "\n",
    "\n",
    "#prints graphs to confirm our insights above: these binary features have minimal influence on survival rates\n",
    "\n",
    "results = []\n",
    "for col in binary_cols_1:\n",
    "    grouped = df.groupby(col)[\"survived\"].agg(['mean','count','sum'])  \n",
    "    \n",
    "    #add confidence intervals to show uncertainity around our estimate \n",
    "    for val, row in grouped.iterrows():\n",
    "        ci_low, ci_high = proportion_confint(count=row['sum'], nobs=row['count'], method='wilson')\n",
    "        \n",
    "        results.append({\n",
    "            \"feature\": col,     \n",
    "            \"group\": val,\n",
    "            \"survival_rate\":row['mean']* 100,\n",
    "            \"ci_low\": ci_low* 100,\n",
    "            \"ci_high\": ci_high*100    \n",
    "        })    \n",
    "\n",
    "\n",
    "binary_plot_df = pd.DataFrame(results)    #temporary df for analyzing these results\n",
    "fig, axes = plt.subplots(2,3, figsize=(18,10))  \n",
    "# fig, axes = plt.subplots(n_rows, n_cols, figsize=(6*n_cols, 5*n_rows))\n",
    "axes = axes.flatten()\n",
    "\n",
    "\n",
    "for i, feature in enumerate(binary_cols_1):\n",
    "    sub = binary_plot_df[binary_plot_df['feature'] == feature]\n",
    "    sns.barplot(x=\"group\", y=\"survival_rate\", data=sub, ax=axes[i])\n",
    "    \n",
    "    #adds error bars: \n",
    "    axes[i].errorbar(x=np.arange(len(sub)), y=sub['survival_rate'],\n",
    "                     yerr=[sub['survival_rate']- sub['ci_low'], sub['ci_high']-sub['survival_rate']],\n",
    "                     fmt='none', c='black', capsize=5);\n",
    "    \n",
    "    axes[i].set_title(f\"{feature} vs Survival\"),\n",
    "    axes[i].set_ylabel(\"Survival Rate (%)\");\n",
    "    axes[i].set_xlabel(feature);\n",
    "\n",
    "plt.tight_layout()\n",
    "plt.show();  \n",
    "\n"
   ]
  },
  {
   "cell_type": "markdown",
   "id": "88d78f68",
   "metadata": {},
   "source": [
    "#### 3.3.3 Categorical vs Target"
   ]
  },
  {
   "cell_type": "markdown",
   "id": "ae7793fa",
   "metadata": {},
   "source": [
    "**Here we are asking if survival rates differ between different groups**\n",
    "\n",
    "To analyze any influence from the categorical variables on the target feature, we will\n",
    "- Calculate survival rates per category \n",
    "- Add confidence intervals to determine uncertainity \n",
    "- Visualize the differences \n",
    "- Perform the statistical test, chi-squared test of independence "
   ]
  },
  {
   "cell_type": "markdown",
   "id": "8b84f13a",
   "metadata": {},
   "source": [
    "**Smoking Status vs Survival**\n",
    "\n",
    "In the calculated survival rates per category, they are all almost equal, within 21.96-22.09%, showing tiny differences in survival rates. The chi squared p value = 0.772 (>0.05) shows no significant differences in survival across smoking status. The graphs done below confirm this to us. "
   ]
  },
  {
   "cell_type": "code",
   "execution_count": null,
   "id": "a7273429",
   "metadata": {},
   "outputs": [
    {
     "name": "stdout",
     "output_type": "stream",
     "text": [
      "Smoker Status Summary:\n",
      "0    0.220340\n",
      "1    0.219641\n",
      "2    0.220910\n",
      "3    0.220025\n",
      "Name: survival_rate, dtype: float64\n",
      "\n",
      "\n",
      "Smoking status vs survival: p=0.7722926422184736\n"
     ]
    },
    {
     "data": {
      "image/png": "[encoded data removed]",
      "text/plain": [
       "<Figure size 800x500 with 1 Axes>"
      ]
     },
     "metadata": {},
     "output_type": "display_data"
    }
   ],
   "source": [
    "smoking_cols = [c for c in df.columns if \"smoker_\" in c]\n",
    "df[\"smoking_status\"] = df[smoking_cols].idxmax(axis=1).str.replace(\"smoking_status_\", \"\")\n",
    "smoking_summary = df.groupby(\"smoking_status\")[\"survived\"].agg(survival_rate=\"mean\",count=\"count\", survivors=\"sum\").reset_index() \n",
    "\n",
    "pd.crosstab(df[\"smoking_status\"], df[\"survived\"])\n",
    "chi2, p, dof, ex = chi2_contingency(pd.crosstab(df[\"smoking_status\"], df[\"survived\"]))    #chi squared tets of independence \n",
    "\n",
    "print(f\"Smoker Status Summary:\\n{smoking_summary['survival_rate']}\\n\\n\")\n",
    "print(f\"Smoking status vs survival: p={p}\")\n",
    "\n",
    "\n",
    "plt.figure(figsize=(8,5))\n",
    "sns.barplot(\n",
    "    x=\"smoking_status\", y=\"survival_rate\", \n",
    "    data=smoking_summary, \n",
    "    errorbar=('ci', 95)               #automatically computes 95% confidence intervals\n",
    ")\n",
    "plt.ylabel(\"Survival Rate (%)\")\n",
    "plt.title(\"Survival Rate by Smoking Status\")\n",
    "plt.show();"
   ]
  },
  {
   "cell_type": "markdown",
   "id": "ffb3c183",
   "metadata": {},
   "source": [
    "**Treatment Type vs Survival**\n",
    "\n",
    "In the survival rates between treatment types, they range between 21.87-22.15%, with an almost equal value for each category. The chi-squared p value = 0.162 (>0.05) also shows no statisical difference between different types of treatment and survival (chemo/radiation/surgery/none). The graphs once again confirm this.\n"
   ]
  },
  {
   "cell_type": "code",
   "execution_count": null,
   "id": "4d443458",
   "metadata": {},
   "outputs": [
    {
     "name": "stdout",
     "output_type": "stream",
     "text": [
      "Treatment Type Summary:\n",
      "0    0.218739\n",
      "1    0.220126\n",
      "2    0.220557\n",
      "3    0.221499\n",
      "Name: survival_rate, dtype: float64\n",
      "\n",
      "\n",
      "Treatment type vs survival: p=0.1621055798959168\n"
     ]
    },
    {
     "data": {
      "image/png": "[encoded data removed]",
      "text/plain": [
       "<Figure size 800x500 with 1 Axes>"
      ]
     },
     "metadata": {},
     "output_type": "display_data"
    }
   ],
   "source": [
    "treatment_cols = [c for c in df.columns if \"treat_\" in c]\n",
    "df[\"treatment_type\"] = df[treatment_cols].idxmax(axis=1).str.replace(\"treatment_type_\", \"\")  \n",
    "\n",
    "\n",
    "treatment_summary= df.groupby(\"treatment_type\")[\"survived\"].agg(survival_rate=\"mean\", count=\"count\", survivors=\"sum\").reset_index()\n",
    "\n",
    "pd.crosstab(df[\"treatment_type\"], df[\"survived\"])\n",
    "chi2, p, dof, ex = chi2_contingency(pd.crosstab(df[\"treatment_type\"], df[\"survived\"]))\n",
    "\n",
    "print(f\"Treatment Type Summary:\\n{treatment_summary['survival_rate']}\\n\\n\")\n",
    "print(f\"Treatment type vs survival: p={p}\")\n",
    "\n",
    "\n",
    "plt.figure(figsize=(8,5))\n",
    "sns.barplot(\n",
    "    x=\"treatment_type\", y=\"survival_rate\", \n",
    "    data=treatment_summary, \n",
    "    errorbar=('ci', 95)               #automatically computes 95% confidence intervals\n",
    ")\n",
    "plt.ylabel(\"Survival Rate (%)\")\n",
    "plt.title(\"Survival Rate by Treatment TYpe \")\n",
    "plt.show();\n"
   ]
  },
  {
   "cell_type": "markdown",
   "id": "4f6e1049",
   "metadata": {},
   "source": [
    "Considering that this is regarding treatment type and clearly receiving treatment or not is a huge factor in cancer survival. The reason this dataset is showing up little to no difference between treatment types is becausing this is considering survival to be 0/1, without the consideration of \n",
    "- length of survival after treatment type selected\n",
    "- age, current health\n",
    "- early/late stage diagnosis\n",
    "- not all patients are eligable for each treatment (surgery would be for younger, healthier patients while late stage would be more likely to receieve chemotherapy). \n",
    "\n",
    "While this is good initial EDA, this should not discredit the influence treatment types or other variables with low statistical influence (up to this point). We need to consider more complex analysis. "
   ]
  },
  {
   "cell_type": "markdown",
   "id": "c3f65326",
   "metadata": {},
   "source": [
    "### 3.4 Multivariate Analysis"
   ]
  },
  {
   "cell_type": "code",
   "execution_count": 118,
   "id": "e5664b73",
   "metadata": {},
   "outputs": [
    {
     "name": "stderr",
     "output_type": "stream",
     "text": [
      "C:\\Users\\annap\\AppData\\Local\\Temp\\ipykernel_41752\\168944054.py:2: FutureWarning: The default value of numeric_only in DataFrame.corr is deprecated. In a future version, it will default to False. Select only valid columns or specify the value of numeric_only to silence this warning.\n",
      "  sns.heatmap(df.corr(), annot=True, fmt='.2f', cmap='Pastel2', linewidths=2);\n"
     ]
    },
    {
     "data": {
      "image/png": "[encoded data removed]",
      "text/plain": [
       "<Figure size 1500x1000 with 2 Axes>"
      ]
     },
     "metadata": {},
     "output_type": "display_data"
    }
   ],
   "source": [
    "plt.figure(figsize=(15, 10))\n",
    "sns.heatmap(df.corr(), annot=True, fmt='.2f', cmap='Pastel2', linewidths=2); \n",
    "\n",
    "plt.title('Correlation Heatmap')\n",
    "plt.show()"
   ]
  },
  {
   "cell_type": "code",
   "execution_count": null,
   "id": "bd00c9f4",
   "metadata": {},
   "outputs": [],
   "source": [
    "#visualizer = Rank2D(algorithm='pearson', size=(600, 500))\n",
    "#visualizer.fit_transform(df)     #columns\n",
    "#visualizer.poof()"
   ]
  },
  {
   "cell_type": "markdown",
   "id": "29f82fda",
   "metadata": {},
   "source": [
    "### 3.5 Overall Takeaways"
   ]
  },
  {
   "cell_type": "markdown",
   "id": "322df373",
   "metadata": {},
   "source": [
    "**After Univariate/Bivariate Analysis**\n",
    "\n",
    "While the majority of these variables have little to no main influence over surivival rate, we should be considering a more depth exploration of their interactions. THIS IS NORMAL FOR MEDICAL DATASETS, ESPECIALLY WITH OUR IMBALANCE. \n",
    "\n",
    "Lets consider combining \n",
    "- cirrhosis, hypertension, asthma into \"comorbidities\" col\n",
    "- convert smoking_status into \"smoker\" binary col\n",
    "- keep treatment_type categorical \n",
    "\n",
    "Consider dropping \n",
    "- other_cancer  (as it is less than 10% of the dataset)\n",
    "- country (there are 27 countries, all european - not incredibly important here)\n",
    "- bmi (most of the data shows our patients are overweight to obese, no need to keep)\n",
    "- diagnosis_date and end_treatment_date\n",
    "\n",
    "\n",
    "We should consider interactions/combinations such as (not all though) to be more insightful \n",
    "\n",
    "- treatment_type, age\n",
    "- treatment_type, comorbidities\n",
    "- smoking_status, comorbidities\n",
    "- BMI, comorbidities\n",
    "- cholesterol_level, age/gender\n",
    "- family_history, smoking_status\n",
    "- comorbidities, treatment_type\n",
    "\n",
    "**While we do have a decent amount of variables, we shouldn't drop any of them (unless absolutely necessary) as we would lose predictive power. We also do not have enough features to consider regularization, so we should leave it as is. \n",
    "\n",
    "We can consider FEATURE ENGINEERING instead (potential combinations above). \n",
    "\n",
    "We should also address our class imbalance before modeling as only 22% of our patients in the dataset survived, so we should either oversample or use class weighting when developing our model. "
   ]
  },
  {
   "cell_type": "markdown",
   "id": "453c08b2",
   "metadata": {},
   "source": [
    "## 4. Feature Engineering"
   ]
  },
  {
   "cell_type": "markdown",
   "id": "0103592b",
   "metadata": {},
   "source": [
    "Create new variables to combine 2+ existing features because univariate analysis can miss important relationships. after this, check correlation and drop any unnecessary features. \n",
    "\n",
    "**age x treatment_type**\n",
    "\n",
    "**cholesterol_level x smoking_status**\n",
    "\n",
    "**treatment_type x smokied**\n",
    "\n",
    "**treatment_type x comorbidities**\n",
    "\n",
    "**smoked x comorbidities**\n",
    "\n"
   ]
  },
  {
   "cell_type": "markdown",
   "id": "5d9bf56e",
   "metadata": {},
   "source": [
    "### 4.1 Updated Cleaning and Schema Alignment"
   ]
  },
  {
   "cell_type": "code",
   "execution_count": null,
   "id": "f1410692",
   "metadata": {},
   "outputs": [
    {
     "name": "stdout",
     "output_type": "stream",
     "text": [
      "gender done\n",
      "family_history done\n",
      "comorbidities done\n",
      "smoked done\n",
      "         age  gender  cancer_stage  family_history  cholesterol_level  \\\n",
      "773684  37.0       1             2               0                241   \n",
      "278119  63.0       0             3               0                162   \n",
      "810422  63.0       0             3               0                230   \n",
      "443587  71.0       1             2               0                293   \n",
      "701478  45.0       0             1               0                173   \n",
      "100969  54.0       0             4               1                258   \n",
      "774703  41.0       0             2               0                222   \n",
      "684391  60.0       1             3               0                195   \n",
      "612535  51.0       0             2               0                179   \n",
      "59393   51.0       1             2               1                290   \n",
      "\n",
      "        survived  comorbidities  smoked  treat_chemo  treat_combined  \\\n",
      "773684         0              0       1            0               0   \n",
      "278119         0              1       1            0               1   \n",
      "810422         1              1       1            0               1   \n",
      "443587         1              0       0            1               0   \n",
      "701478         0              1       1            0               0   \n",
      "100969         0              1       0            0               0   \n",
      "774703         0              1       1            1               0   \n",
      "684391         0              1       1            0               1   \n",
      "612535         0              1       1            0               0   \n",
      "59393          0              1       1            0               1   \n",
      "\n",
      "        treat_radiation  treat_surgery  \n",
      "773684                0              1  \n",
      "278119                0              0  \n",
      "810422                0              0  \n",
      "443587                0              0  \n",
      "701478                0              1  \n",
      "100969                1              0  \n",
      "774703                0              0  \n",
      "684391                0              0  \n",
      "612535                0              1  \n",
      "59393                 0              0  \n"
     ]
    }
   ],
   "source": [
    "df = df_raw.copy()\n",
    "df = df.sample(frac=0.1, random_state=42)    #random sample of 40% of dataset\n",
    "\n",
    "df.drop([\"id\", \"bmi\", \"diagnosis_date\", \"end_treatment_date\", \"country\", \"other_cancer\"], axis=1,inplace=True)   #not needed columns\n",
    "\n",
    "# Standardize column names\n",
    "df.columns = [c.strip().replace(\" \", \"_\").replace(\"-\", \"_\")\n",
    "              for c in df.columns]\n",
    "\n",
    "#combine columns for added simplicity \n",
    "df[\"comorbidities\"] = ((df[\"hypertension\"] ==1 )| (df[\"cirrhosis\"] ==1 )| (df[\"asthma\"] ==1 )).astype(int)\n",
    "df.drop([\"hypertension\", \"asthma\", \"cirrhosis\"], axis=1, inplace=True)\n",
    "\n",
    "df[\"smoked\"] = ((df[\"smoking_status\"] == \"Current Smoker\") | (df[\"smoking_status\"] == \"Former Smoker\") | (df[\"smoking_status\"] == \"Passive Smoker\"))\n",
    "df.drop([\"smoking_status\"], axis=1, inplace=True)\n",
    "\n",
    "\n",
    "\n",
    "num_cols = [\"age\", \"cholesterol_level\"]    #continuous cols\n",
    "binary_cols = ['gender', 'family_history', 'comorbidities', 'smoked']    \n",
    "\n",
    "for col in binary_cols:\n",
    "    df[col] = to_binary(df[col])\n",
    "    print(f\"{col} done\")\n",
    "\n",
    "\n",
    "#ordinal encoding for cancer_stage\n",
    "stage_map = {\n",
    "    \"Stage I\": 1,\n",
    "    \"Stage II\": 2,\n",
    "    \"Stage III\": 3,\n",
    "    \"Stage IV\": 4\n",
    "}\n",
    "df[\"cancer_stage\"] = df[\"cancer_stage\"].map(stage_map)\n",
    "\n",
    "#one hot encoding - no other choice as they have no numerical order and frequency encoding wouldnt work (all about ~25% of dataset)\n",
    "df = pd.get_dummies(df, columns=[\"treatment_type\"], drop_first=False)\n",
    "\n",
    "rename_dict = {\n",
    "    'treatment_type_Chemotherapy': 'treat_chemo',\n",
    "    'treatment_type_Combined': 'treat_combined',\n",
    "    'treatment_type_Radiation': 'treat_radiation',\n",
    "    'treatment_type_Surgery': 'treat_surgery'\n",
    "}\n",
    "df.rename(columns=rename_dict, inplace=True)\n",
    "\n",
    "print(df.head(10))"
   ]
  },
  {
   "cell_type": "code",
   "execution_count": 121,
   "id": "10cc935c",
   "metadata": {},
   "outputs": [
    {
     "name": "stdout",
     "output_type": "stream",
     "text": [
      "<class 'pandas.core.frame.DataFrame'>\n",
      "Int64Index: 89000 entries, 773684 to 7266\n",
      "Data columns (total 12 columns):\n",
      " #   Column             Non-Null Count  Dtype  \n",
      "---  ------             --------------  -----  \n",
      " 0   age                89000 non-null  float64\n",
      " 1   gender             89000 non-null  int32  \n",
      " 2   cancer_stage       89000 non-null  int64  \n",
      " 3   family_history     89000 non-null  int32  \n",
      " 4   cholesterol_level  89000 non-null  int64  \n",
      " 5   survived           89000 non-null  int64  \n",
      " 6   comorbidities      89000 non-null  int32  \n",
      " 7   smoked             89000 non-null  int32  \n",
      " 8   treat_chemo        89000 non-null  uint8  \n",
      " 9   treat_combined     89000 non-null  uint8  \n",
      " 10  treat_radiation    89000 non-null  uint8  \n",
      " 11  treat_surgery      89000 non-null  uint8  \n",
      "dtypes: float64(1), int32(4), int64(3), uint8(4)\n",
      "memory usage: 5.1 MB\n"
     ]
    }
   ],
   "source": [
    "df.info()"
   ]
  },
  {
   "cell_type": "markdown",
   "id": "358cea85",
   "metadata": {},
   "source": [
    "### 4.2 Potential Interaction Terms"
   ]
  },
  {
   "cell_type": "markdown",
   "id": "b9f28e04",
   "metadata": {},
   "source": [
    "These are potential interaction terms, so we will test them in the next few "
   ]
  },
  {
   "cell_type": "code",
   "execution_count": 122,
   "id": "89fd76ab",
   "metadata": {},
   "outputs": [],
   "source": [
    "#age x treatment_type as older patients could respond differently \n",
    "df[\"age_chemo\"] = df[\"age\"] * df[\"treat_chemo\"]\n",
    "df[\"age_surgery\"] = df[\"age\"] * df[\"treat_surgery\"]     \n",
    "df[\"age_combined\"] = df[\"age\"] * df[\"treat_combined\"]\n",
    "df[\"age_radiation\"] = df[\"age\"] * df[\"treat_radiation\"]\n",
    "df[\"age_stage\"] = df[\"age\"] * df[\"cancer_stage\"]\n",
    "\n",
    "\n",
    "#treatment x cancer_stage \n",
    "for t in [\"treat_chemo\", \"treat_surgery\", \"treat_combined\", \"treat_radiation\"]:\n",
    "    df[f\"{t}_stage\"] = df[t] * df[\"cancer_stage\"]   \n",
    "\n",
    "#comorbidities x age as older patients matters more (less resilient)   \n",
    "df[\"age_comorbid\"] = df[\"age\"]* df[\"comorbidities\"]  \n",
    "  \n",
    "#comorbidities x treatment as this can change toleration to chemo/radiation\n",
    "for t in [\"treat_chemo\",\"treat_surgery\",\"treat_combined\",\"treat_radiation\"]:\n",
    "    df[f\"{t}_comorbid\"] = df[t]*df[\"comorbidities\"]   \n",
    "\n",
    "#smoked x treatment_type as it could have differnt outcomes with chemo/radiation\n",
    "for t in [\"treat_chemo\", \"treat_surgery\",\"treat_combined\", \"treat_radiation\"]:\n",
    "    df[f\"{t}_smoked\"] = df[t] * df[\"smoked\"]\n",
    "\n"
   ]
  },
  {
   "cell_type": "markdown",
   "id": "e3a0ef21",
   "metadata": {},
   "source": [
    "#### 4.2.1 Polynomial Features"
   ]
  },
  {
   "cell_type": "markdown",
   "id": "38caea7f",
   "metadata": {},
   "source": [
    "To capture non-linear relationships, which is necessary for medical datasets - good for understanding trends/more complex patterns --> helps us better fit data & improves predictions"
   ]
  },
  {
   "cell_type": "code",
   "execution_count": 123,
   "id": "5f4463fe",
   "metadata": {},
   "outputs": [
    {
     "name": "stdout",
     "output_type": "stream",
     "text": [
      "         age  cholesterol_level   age^2  age cholesterol_level  \\\n",
      "773684  37.0              241.0  1369.0                 8917.0   \n",
      "278119  63.0              162.0  3969.0                10206.0   \n",
      "810422  63.0              230.0  3969.0                14490.0   \n",
      "443587  71.0              293.0  5041.0                20803.0   \n",
      "701478  45.0              173.0  2025.0                 7785.0   \n",
      "\n",
      "        cholesterol_level^2  \n",
      "773684              58081.0  \n",
      "278119              26244.0  \n",
      "810422              52900.0  \n",
      "443587              85849.0  \n",
      "701478              29929.0  \n"
     ]
    }
   ],
   "source": [
    "# generates poly features (age^2, cholesteorl^2)\n",
    "poly = PolynomialFeatures(degree=2, include_bias=False)\n",
    "poly_features = poly.fit_transform(df[num_cols])\n",
    "poly_names = poly.get_feature_names_out([\"age\", \"cholesterol_level\"])  \n",
    "\n",
    "df_poly = pd.DataFrame(poly_features, columns=poly_names, index=df.index)    #converts back to df\n",
    "df = pd.concat([df, df_poly], axis=1)\n",
    "\n",
    "print(df_poly.head())  \n",
    " "
   ]
  },
  {
   "cell_type": "code",
   "execution_count": 124,
   "id": "a215de2d",
   "metadata": {},
   "outputs": [
    {
     "data": {
      "application/vnd.microsoft.datawrangler.viewer.v0+json": {
       "columns": [
        {
         "name": "index",
         "rawType": "int64",
         "type": "integer"
        },
        {
         "name": "age",
         "rawType": "float64",
         "type": "float"
        },
        {
         "name": "gender",
         "rawType": "int32",
         "type": "integer"
        },
        {
         "name": "cancer_stage",
         "rawType": "int64",
         "type": "integer"
        },
        {
         "name": "family_history",
         "rawType": "int32",
         "type": "integer"
        },
        {
         "name": "cholesterol_level",
         "rawType": "int64",
         "type": "integer"
        },
        {
         "name": "survived",
         "rawType": "int64",
         "type": "integer"
        },
        {
         "name": "comorbidities",
         "rawType": "int32",
         "type": "integer"
        },
        {
         "name": "smoked",
         "rawType": "int32",
         "type": "integer"
        },
        {
         "name": "treat_chemo",
         "rawType": "uint8",
         "type": "integer"
        },
        {
         "name": "treat_combined",
         "rawType": "uint8",
         "type": "integer"
        },
        {
         "name": "treat_radiation",
         "rawType": "uint8",
         "type": "integer"
        },
        {
         "name": "treat_surgery",
         "rawType": "uint8",
         "type": "integer"
        },
        {
         "name": "age_chemo",
         "rawType": "float64",
         "type": "float"
        },
        {
         "name": "age_surgery",
         "rawType": "float64",
         "type": "float"
        },
        {
         "name": "age_combined",
         "rawType": "float64",
         "type": "float"
        },
        {
         "name": "age_radiation",
         "rawType": "float64",
         "type": "float"
        },
        {
         "name": "age_stage",
         "rawType": "float64",
         "type": "float"
        },
        {
         "name": "treat_chemo_stage",
         "rawType": "int64",
         "type": "integer"
        },
        {
         "name": "treat_surgery_stage",
         "rawType": "int64",
         "type": "integer"
        },
        {
         "name": "treat_combined_stage",
         "rawType": "int64",
         "type": "integer"
        },
        {
         "name": "treat_radiation_stage",
         "rawType": "int64",
         "type": "integer"
        },
        {
         "name": "age_comorbid",
         "rawType": "float64",
         "type": "float"
        },
        {
         "name": "treat_chemo_comorbid",
         "rawType": "int32",
         "type": "integer"
        },
        {
         "name": "treat_surgery_comorbid",
         "rawType": "int32",
         "type": "integer"
        },
        {
         "name": "treat_combined_comorbid",
         "rawType": "int32",
         "type": "integer"
        },
        {
         "name": "treat_radiation_comorbid",
         "rawType": "int32",
         "type": "integer"
        },
        {
         "name": "treat_chemo_smoked",
         "rawType": "int32",
         "type": "integer"
        },
        {
         "name": "treat_surgery_smoked",
         "rawType": "int32",
         "type": "integer"
        },
        {
         "name": "treat_combined_smoked",
         "rawType": "int32",
         "type": "integer"
        },
        {
         "name": "treat_radiation_smoked",
         "rawType": "int32",
         "type": "integer"
        },
        {
         "name": "age",
         "rawType": "float64",
         "type": "float"
        },
        {
         "name": "cholesterol_level",
         "rawType": "float64",
         "type": "float"
        },
        {
         "name": "age^2",
         "rawType": "float64",
         "type": "float"
        },
        {
         "name": "age cholesterol_level",
         "rawType": "float64",
         "type": "float"
        },
        {
         "name": "cholesterol_level^2",
         "rawType": "float64",
         "type": "float"
        }
       ],
       "ref": "8e269ea2-f5c2-4e8f-af9b-ae4452db7524",
       "rows": [
        [
         "773684",
         "37.0",
         "1",
         "2",
         "0",
         "241",
         "0",
         "0",
         "1",
         "0",
         "0",
         "0",
         "1",
         "0.0",
         "37.0",
         "0.0",
         "0.0",
         "74.0",
         "0",
         "2",
         "0",
         "0",
         "0.0",
         "0",
         "0",
         "0",
         "0",
         "0",
         "1",
         "0",
         "0",
         "37.0",
         "241.0",
         "1369.0",
         "8917.0",
         "58081.0"
        ],
        [
         "278119",
         "63.0",
         "0",
         "3",
         "0",
         "162",
         "0",
         "1",
         "1",
         "0",
         "1",
         "0",
         "0",
         "0.0",
         "0.0",
         "63.0",
         "0.0",
         "189.0",
         "0",
         "0",
         "3",
         "0",
         "63.0",
         "0",
         "0",
         "1",
         "0",
         "0",
         "0",
         "1",
         "0",
         "63.0",
         "162.0",
         "3969.0",
         "10206.0",
         "26244.0"
        ],
        [
         "810422",
         "63.0",
         "0",
         "3",
         "0",
         "230",
         "1",
         "1",
         "1",
         "0",
         "1",
         "0",
         "0",
         "0.0",
         "0.0",
         "63.0",
         "0.0",
         "189.0",
         "0",
         "0",
         "3",
         "0",
         "63.0",
         "0",
         "0",
         "1",
         "0",
         "0",
         "0",
         "1",
         "0",
         "63.0",
         "230.0",
         "3969.0",
         "14490.0",
         "52900.0"
        ],
        [
         "443587",
         "71.0",
         "1",
         "2",
         "0",
         "293",
         "1",
         "0",
         "0",
         "1",
         "0",
         "0",
         "0",
         "71.0",
         "0.0",
         "0.0",
         "0.0",
         "142.0",
         "2",
         "0",
         "0",
         "0",
         "0.0",
         "0",
         "0",
         "0",
         "0",
         "0",
         "0",
         "0",
         "0",
         "71.0",
         "293.0",
         "5041.0",
         "20803.0",
         "85849.0"
        ],
        [
         "701478",
         "45.0",
         "0",
         "1",
         "0",
         "173",
         "0",
         "1",
         "1",
         "0",
         "0",
         "0",
         "1",
         "0.0",
         "45.0",
         "0.0",
         "0.0",
         "45.0",
         "0",
         "1",
         "0",
         "0",
         "45.0",
         "0",
         "1",
         "0",
         "0",
         "0",
         "1",
         "0",
         "0",
         "45.0",
         "173.0",
         "2025.0",
         "7785.0",
         "29929.0"
        ]
       ],
       "shape": {
        "columns": 35,
        "rows": 5
       }
      },
      "text/html": [
       "<div>\n",
       "<style scoped>\n",
       "    .dataframe tbody tr th:only-of-type {\n",
       "        vertical-align: middle;\n",
       "    }\n",
       "\n",
       "    .dataframe tbody tr th {\n",
       "        vertical-align: top;\n",
       "    }\n",
       "\n",
       "    .dataframe thead th {\n",
       "        text-align: right;\n",
       "    }\n",
       "</style>\n",
       "<table border=\"1\" class=\"dataframe\">\n",
       "  <thead>\n",
       "    <tr style=\"text-align: right;\">\n",
       "      <th></th>\n",
       "      <th>age</th>\n",
       "      <th>gender</th>\n",
       "      <th>cancer_stage</th>\n",
       "      <th>family_history</th>\n",
       "      <th>cholesterol_level</th>\n",
       "      <th>survived</th>\n",
       "      <th>comorbidities</th>\n",
       "      <th>smoked</th>\n",
       "      <th>treat_chemo</th>\n",
       "      <th>treat_combined</th>\n",
       "      <th>...</th>\n",
       "      <th>treat_radiation_comorbid</th>\n",
       "      <th>treat_chemo_smoked</th>\n",
       "      <th>treat_surgery_smoked</th>\n",
       "      <th>treat_combined_smoked</th>\n",
       "      <th>treat_radiation_smoked</th>\n",
       "      <th>age</th>\n",
       "      <th>cholesterol_level</th>\n",
       "      <th>age^2</th>\n",
       "      <th>age cholesterol_level</th>\n",
       "      <th>cholesterol_level^2</th>\n",
       "    </tr>\n",
       "  </thead>\n",
       "  <tbody>\n",
       "    <tr>\n",
       "      <th>773684</th>\n",
       "      <td>37.0</td>\n",
       "      <td>1</td>\n",
       "      <td>2</td>\n",
       "      <td>0</td>\n",
       "      <td>241</td>\n",
       "      <td>0</td>\n",
       "      <td>0</td>\n",
       "      <td>1</td>\n",
       "      <td>0</td>\n",
       "      <td>0</td>\n",
       "      <td>...</td>\n",
       "      <td>0</td>\n",
       "      <td>0</td>\n",
       "      <td>1</td>\n",
       "      <td>0</td>\n",
       "      <td>0</td>\n",
       "      <td>37.0</td>\n",
       "      <td>241.0</td>\n",
       "      <td>1369.0</td>\n",
       "      <td>8917.0</td>\n",
       "      <td>58081.0</td>\n",
       "    </tr>\n",
       "    <tr>\n",
       "      <th>278119</th>\n",
       "      <td>63.0</td>\n",
       "      <td>0</td>\n",
       "      <td>3</td>\n",
       "      <td>0</td>\n",
       "      <td>162</td>\n",
       "      <td>0</td>\n",
       "      <td>1</td>\n",
       "      <td>1</td>\n",
       "      <td>0</td>\n",
       "      <td>1</td>\n",
       "      <td>...</td>\n",
       "      <td>0</td>\n",
       "      <td>0</td>\n",
       "      <td>0</td>\n",
       "      <td>1</td>\n",
       "      <td>0</td>\n",
       "      <td>63.0</td>\n",
       "      <td>162.0</td>\n",
       "      <td>3969.0</td>\n",
       "      <td>10206.0</td>\n",
       "      <td>26244.0</td>\n",
       "    </tr>\n",
       "    <tr>\n",
       "      <th>810422</th>\n",
       "      <td>63.0</td>\n",
       "      <td>0</td>\n",
       "      <td>3</td>\n",
       "      <td>0</td>\n",
       "      <td>230</td>\n",
       "      <td>1</td>\n",
       "      <td>1</td>\n",
       "      <td>1</td>\n",
       "      <td>0</td>\n",
       "      <td>1</td>\n",
       "      <td>...</td>\n",
       "      <td>0</td>\n",
       "      <td>0</td>\n",
       "      <td>0</td>\n",
       "      <td>1</td>\n",
       "      <td>0</td>\n",
       "      <td>63.0</td>\n",
       "      <td>230.0</td>\n",
       "      <td>3969.0</td>\n",
       "      <td>14490.0</td>\n",
       "      <td>52900.0</td>\n",
       "    </tr>\n",
       "    <tr>\n",
       "      <th>443587</th>\n",
       "      <td>71.0</td>\n",
       "      <td>1</td>\n",
       "      <td>2</td>\n",
       "      <td>0</td>\n",
       "      <td>293</td>\n",
       "      <td>1</td>\n",
       "      <td>0</td>\n",
       "      <td>0</td>\n",
       "      <td>1</td>\n",
       "      <td>0</td>\n",
       "      <td>...</td>\n",
       "      <td>0</td>\n",
       "      <td>0</td>\n",
       "      <td>0</td>\n",
       "      <td>0</td>\n",
       "      <td>0</td>\n",
       "      <td>71.0</td>\n",
       "      <td>293.0</td>\n",
       "      <td>5041.0</td>\n",
       "      <td>20803.0</td>\n",
       "      <td>85849.0</td>\n",
       "    </tr>\n",
       "    <tr>\n",
       "      <th>701478</th>\n",
       "      <td>45.0</td>\n",
       "      <td>0</td>\n",
       "      <td>1</td>\n",
       "      <td>0</td>\n",
       "      <td>173</td>\n",
       "      <td>0</td>\n",
       "      <td>1</td>\n",
       "      <td>1</td>\n",
       "      <td>0</td>\n",
       "      <td>0</td>\n",
       "      <td>...</td>\n",
       "      <td>0</td>\n",
       "      <td>0</td>\n",
       "      <td>1</td>\n",
       "      <td>0</td>\n",
       "      <td>0</td>\n",
       "      <td>45.0</td>\n",
       "      <td>173.0</td>\n",
       "      <td>2025.0</td>\n",
       "      <td>7785.0</td>\n",
       "      <td>29929.0</td>\n",
       "    </tr>\n",
       "  </tbody>\n",
       "</table>\n",
       "<p>5 rows × 35 columns</p>\n",
       "</div>"
      ],
      "text/plain": [
       "         age  gender  cancer_stage  family_history  cholesterol_level  \\\n",
       "773684  37.0       1             2               0                241   \n",
       "278119  63.0       0             3               0                162   \n",
       "810422  63.0       0             3               0                230   \n",
       "443587  71.0       1             2               0                293   \n",
       "701478  45.0       0             1               0                173   \n",
       "\n",
       "        survived  comorbidities  smoked  treat_chemo  treat_combined  ...  \\\n",
       "773684         0              0       1            0               0  ...   \n",
       "278119         0              1       1            0               1  ...   \n",
       "810422         1              1       1            0               1  ...   \n",
       "443587         1              0       0            1               0  ...   \n",
       "701478         0              1       1            0               0  ...   \n",
       "\n",
       "        treat_radiation_comorbid  treat_chemo_smoked  treat_surgery_smoked  \\\n",
       "773684                         0                   0                     1   \n",
       "278119                         0                   0                     0   \n",
       "810422                         0                   0                     0   \n",
       "443587                         0                   0                     0   \n",
       "701478                         0                   0                     1   \n",
       "\n",
       "        treat_combined_smoked  treat_radiation_smoked   age  \\\n",
       "773684                      0                       0  37.0   \n",
       "278119                      1                       0  63.0   \n",
       "810422                      1                       0  63.0   \n",
       "443587                      0                       0  71.0   \n",
       "701478                      0                       0  45.0   \n",
       "\n",
       "        cholesterol_level   age^2  age cholesterol_level  cholesterol_level^2  \n",
       "773684              241.0  1369.0                 8917.0              58081.0  \n",
       "278119              162.0  3969.0                10206.0              26244.0  \n",
       "810422              230.0  3969.0                14490.0              52900.0  \n",
       "443587              293.0  5041.0                20803.0              85849.0  \n",
       "701478              173.0  2025.0                 7785.0              29929.0  \n",
       "\n",
       "[5 rows x 35 columns]"
      ]
     },
     "execution_count": 124,
     "metadata": {},
     "output_type": "execute_result"
    }
   ],
   "source": [
    "df.head()"
   ]
  },
  {
   "cell_type": "markdown",
   "id": "317a6cab",
   "metadata": {},
   "source": [
    "### 4.3 Logistic Regression with L1 (Lasso)"
   ]
  },
  {
   "cell_type": "code",
   "execution_count": 125,
   "id": "ec4b3735",
   "metadata": {},
   "outputs": [
    {
     "data": {
      "text/html": [
       "<style type=\"text/css\">\n",
       "</style>\n",
       "<table id=\"T_5ab85\">\n",
       "  <thead>\n",
       "    <tr>\n",
       "      <th class=\"blank level0\" >&nbsp;</th>\n",
       "      <th id=\"T_5ab85_level0_col0\" class=\"col_heading level0 col0\" >Set</th>\n",
       "      <th id=\"T_5ab85_level0_col1\" class=\"col_heading level0 col1\" >X shape</th>\n",
       "      <th id=\"T_5ab85_level0_col2\" class=\"col_heading level0 col2\" >y shape</th>\n",
       "      <th id=\"T_5ab85_level0_col3\" class=\"col_heading level0 col3\" >p(survived=0)</th>\n",
       "      <th id=\"T_5ab85_level0_col4\" class=\"col_heading level0 col4\" >p(survived=1)</th>\n",
       "    </tr>\n",
       "  </thead>\n",
       "  <tbody>\n",
       "    <tr>\n",
       "      <th id=\"T_5ab85_level0_row0\" class=\"row_heading level0 row0\" >0</th>\n",
       "      <td id=\"T_5ab85_row0_col0\" class=\"data row0 col0\" >Train</td>\n",
       "      <td id=\"T_5ab85_row0_col1\" class=\"data row0 col1\" >(71200, 32)</td>\n",
       "      <td id=\"T_5ab85_row0_col2\" class=\"data row0 col2\" >(71200,)</td>\n",
       "      <td id=\"T_5ab85_row0_col3\" class=\"data row0 col3\" >0.780</td>\n",
       "      <td id=\"T_5ab85_row0_col4\" class=\"data row0 col4\" >0.220</td>\n",
       "    </tr>\n",
       "    <tr>\n",
       "      <th id=\"T_5ab85_level0_row1\" class=\"row_heading level0 row1\" >1</th>\n",
       "      <td id=\"T_5ab85_row1_col0\" class=\"data row1 col0\" >Validation</td>\n",
       "      <td id=\"T_5ab85_row1_col1\" class=\"data row1 col1\" >(13350, 32)</td>\n",
       "      <td id=\"T_5ab85_row1_col2\" class=\"data row1 col2\" >(13350,)</td>\n",
       "      <td id=\"T_5ab85_row1_col3\" class=\"data row1 col3\" >0.780</td>\n",
       "      <td id=\"T_5ab85_row1_col4\" class=\"data row1 col4\" >0.220</td>\n",
       "    </tr>\n",
       "    <tr>\n",
       "      <th id=\"T_5ab85_level0_row2\" class=\"row_heading level0 row2\" >2</th>\n",
       "      <td id=\"T_5ab85_row2_col0\" class=\"data row2 col0\" >Test</td>\n",
       "      <td id=\"T_5ab85_row2_col1\" class=\"data row2 col1\" >(4450, 32)</td>\n",
       "      <td id=\"T_5ab85_row2_col2\" class=\"data row2 col2\" >(4450,)</td>\n",
       "      <td id=\"T_5ab85_row2_col3\" class=\"data row2 col3\" >0.780</td>\n",
       "      <td id=\"T_5ab85_row2_col4\" class=\"data row2 col4\" >0.220</td>\n",
       "    </tr>\n",
       "    <tr>\n",
       "      <th id=\"T_5ab85_level0_row3\" class=\"row_heading level0 row3\" >3</th>\n",
       "      <td id=\"T_5ab85_row3_col0\" class=\"data row3 col0\" >Overall</td>\n",
       "      <td id=\"T_5ab85_row3_col1\" class=\"data row3 col1\" >(89000, 32)</td>\n",
       "      <td id=\"T_5ab85_row3_col2\" class=\"data row3 col2\" >(89000,)</td>\n",
       "      <td id=\"T_5ab85_row3_col3\" class=\"data row3 col3\" >0.780</td>\n",
       "      <td id=\"T_5ab85_row3_col4\" class=\"data row3 col4\" >0.220</td>\n",
       "    </tr>\n",
       "  </tbody>\n",
       "</table>\n"
      ],
      "text/plain": [
       "<pandas.io.formats.style.Styler at 0x23637ae13c0>"
      ]
     },
     "metadata": {},
     "output_type": "display_data"
    }
   ],
   "source": [
    "target_col = \"survived\"\n",
    "# num_cols = [\"age\", \"bmi\", \"cholesterol_level\"]    #continuous cols\n",
    "# num_cols = df.shape[1]\n",
    "# print(num_cols)\n",
    "cat_like_binary_cols = binary_cols.copy()\n",
    "\n",
    "X = df[num_cols + cat_like_binary_cols].copy()\n",
    "X = df.drop(columns=[\"survived\"])\n",
    "X = X.loc[:, ~X.columns.duplicated()].copy()   \n",
    "y = df[target_col].copy()\n",
    "\n",
    "#makes sure we are constitent with X\n",
    "num_cols = [c for c in [\"age\", \"cholesterol_level\"] if c in X.columns]\n",
    "cat_like_binary_cols = [c for c in ['gender', 'family_history', 'comorbidities', 'smoked'] if c in X.columns]\n",
    "\n",
    "\n",
    "# 70% train, 30% temp\n",
    "X_train, X_temp, y_train, y_temp = train_test_split(\n",
    "    X, y, test_size=0.2, stratify=y, random_state=RANDOM_STATE\n",
    ")\n",
    "\n",
    "# Split temp into validation and test, 15% each overall\n",
    "X_val, X_test, y_val, y_test = train_test_split(\n",
    "    X_temp, y_temp, test_size=0.25, stratify=y_temp, random_state=RANDOM_STATE\n",
    ")\n",
    "# Display shapes and class distributions as a DataFrame\n",
    "\n",
    "info = {\n",
    "    \"Set\": [\"Train\", \"Validation\", \"Test\", \"Overall\"],\n",
    "    \"X shape\": [X_train.shape, X_val.shape, X_test.shape, X.shape],\n",
    "    \"y shape\": [y_train.shape, y_val.shape, y_test.shape, y.shape],\n",
    "    \"p(survived=0)\": [\n",
    "        y_train.value_counts(normalize=True).get(0, 0.0),\n",
    "        y_val.value_counts(normalize=True).get(0, 0.0),\n",
    "        y_test.value_counts(normalize=True).get(0, 0.0),\n",
    "        y.value_counts(normalize=True).get(0, 0.0),\n",
    "    ],\n",
    "    \"p(survived=1)\": [\n",
    "        y_train.value_counts(normalize=True).get(1, 0.0),\n",
    "        y_val.value_counts(normalize=True).get(1, 0.0),\n",
    "        y_test.value_counts(normalize=True).get(1, 0.0),\n",
    "        y.value_counts(normalize=True).get(1, 0.0),\n",
    "    ],\n",
    "}\n",
    "\n",
    "df_info = pd.DataFrame(info)\n",
    "display(df_info.style.format({\"p(survived=0)\": \"{:.3f}\", \"p(survived=1)\": \"{:.3f}\"}))\n",
    "\n",
    "\n",
    "\n",
    "# Preprocessing\n",
    "numeric_transformer = Pipeline(steps=[\n",
    "    (\"imputer\", SimpleImputer(strategy=\"median\")),\n",
    "    (\"scaler\", StandardScaler(with_mean=True, with_std=True))\n",
    "])\n",
    "\n",
    "binary_transformer = Pipeline(steps=[\n",
    "    (\"imputer\", SimpleImputer(strategy=\"most_frequent\"))\n",
    "])\n",
    "\n",
    "preprocess = ColumnTransformer(\n",
    "    transformers=[\n",
    "        (\"num\", numeric_transformer, num_cols),\n",
    "        (\"bin\", binary_transformer, cat_like_binary_cols)\n",
    "    ],\n",
    "    remainder=\"passthrough\",  # drop= drops any column not in previously specified, switched to keep engineered variables\n",
    "    verbose_feature_names_out=False  # keeps original feature names\n",
    ")\n",
    "\n"
   ]
  },
  {
   "cell_type": "code",
   "execution_count": 129,
   "id": "a8ded832",
   "metadata": {},
   "outputs": [
    {
     "name": "stdout",
     "output_type": "stream",
     "text": [
      "\n",
      "Non zero features after l1 regulariztion\n",
      "age                        -0.032281\n",
      "cholesterol_level           0.112411\n",
      "gender                      0.008103\n",
      "family_history              0.015527\n",
      "comorbidities              -0.183528\n",
      "smoked                      0.009190\n",
      "cancer_stage                0.026976\n",
      "treat_chemo                 0.100379\n",
      "treat_combined             -0.064858\n",
      "treat_surgery               0.084670\n",
      "age_chemo                   0.006225\n",
      "age_surgery                 0.006912\n",
      "age_combined                0.009215\n",
      "age_radiation               0.009762\n",
      "age_stage                  -0.000440\n",
      "treat_chemo_stage          -0.007445\n",
      "treat_surgery_stage         0.010905\n",
      "treat_combined_stage        0.004454\n",
      "age_comorbid                0.003761\n",
      "treat_chemo_comorbid        0.022932\n",
      "treat_surgery_comorbid     -0.019805\n",
      "treat_radiation_comorbid   -0.057059\n",
      "treat_chemo_smoked         -0.020528\n",
      "treat_surgery_smoked        0.007441\n",
      "treat_radiation_smoked      0.011035\n",
      "age^2                      -0.000038\n",
      "age cholesterol_level      -0.000009\n",
      "cholesterol_level^2        -0.000005\n",
      "dtype: float64\n"
     ]
    },
    {
     "name": "stderr",
     "output_type": "stream",
     "text": [
      "c:\\Users\\annap\\miniconda3\\envs\\od_rai_mamba\\lib\\site-packages\\sklearn\\svm\\_base.py:1235: ConvergenceWarning: Liblinear failed to converge, increase the number of iterations.\n",
      "  warnings.warn(\n"
     ]
    }
   ],
   "source": [
    "lasso = LogisticRegression(penalty=\"l1\", solver=\"liblinear\", C=1, class_weight=\"balanced\")\n",
    "\n",
    "\n",
    "pipe = Pipeline(steps=[\n",
    "    (\"preprocess\", preprocess),  \n",
    "    (\"lasso\", lasso)  \n",
    "])\n",
    "pipe.fit(X_train, y_train)   \n",
    "\n",
    "\n",
    "feature_names = pipe.named_steps[\"preprocess\"].get_feature_names_out()  \n",
    "coef = pd.Series(pipe.named_steps[\"lasso\"].coef_.flatten(),index=feature_names)\n",
    "\n",
    "print(\"\\nNon zero features after l1 regulariztion\")   \n",
    "print(coef[coef != 0])    \n",
    "# print(\"Chosen C:\", pipe.named_steps[\"lasso\"].C_)\n"
   ]
  },
  {
   "cell_type": "markdown",
   "id": "d17b5964",
   "metadata": {},
   "source": [
    "**TakeAways**\n",
    "\n",
    "These features should be kept, while getting rid of the features that shrank towards 0 (after chaning C=10 to C=1, we saw the effects of stronger regularization and we can now understand which features should be dropped). The coefficients are overall small, as our target feature is very imbalanced and none of the original features show significant influence on survival. L1 shrinks weaker/noisy features towards 0 and keeps the contributing features\n",
    "\n",
    "Main Features (main predictors)\n",
    "- age\n",
    "- cholesterol_levels\n",
    "- gender\n",
    "- family_history\n",
    "- comorbidities\n",
    "- smoked\n",
    "- cancer_stage \n",
    "- treatments (chemo, radiation, surgery, combined)\n",
    "- Interaction terms w modererate effects (>0.01)\n",
    "    - treat_chemo_comorbid  (0.022)\n",
    "    - treat_surgery_comorbid (-0.019)\n",
    "    - treat_radiation_comorbid (-0.057)\n",
    "    - treat_chemo_smoked (-0.02)\n",
    "    - treat_radiation_smoked (0.011)\n",
    "\n",
    "Features to Drop (<0.01)\n",
    "- polynomial terms\n",
    "- age_stage\n",
    "- age_chemo, age_surgery, age_combined, age_radiation\n",
    "- treat_combined_stage, age_comorbid\n",
    "\n",
    "\n"
   ]
  },
  {
   "cell_type": "markdown",
   "id": "ba7d0c26",
   "metadata": {},
   "source": [
    "## 5. Feature Selection\n",
    "\n",
    "We extend the analysis with univariate tests and model-based importance to identify a compact, informative feature set. We'll:\n",
    "- Evaluate binary-like features vs `survived` using chi-squared tests.\n",
    "- Refit the L1-logistic model and rank features by absolute coefficient magnitude.\n",
    "- Combine statistically significant and model-important features into `best_features`.\n"
   ]
  },
  {
   "cell_type": "code",
   "execution_count": null,
   "id": "8e0cf536",
   "metadata": {},
   "outputs": [],
   "source": [
    "#Univariate chi-squared tests for binary-like features\n",
    "binary_like_cols = [c for c in df.columns if c in ['gender','family_history','comorbidities','smoked']]\n",
    "\n",
    "uni_rows = []\n",
    "for c in binary_like_cols:\n",
    "    ct = pd.crosstab(df[c], df['survived'])\n",
    "    if ct.shape[0] >= 2 and ct.shape[1] >= 2:\n",
    "        _, p, _, _ = chi2_contingency(ct)\n",
    "        uni_rows.append({'feature': c, 'test': 'chi2', 'p_value': p})\n",
    "\n",
    "univariate_results = pd.DataFrame(uni_rows).sort_values('p_value')\n",
    "display(univariate_results)\n",
    "\n",
    "#Model-based feature importance via L1 coefficients (reuse previous pipeline or rebuild)\n",
    "#Ensureing X, y, preprocess are available from earlier sections\n",
    "if 'pipe' in globals():\n",
    "    #refit on full training set used earlier if available\n",
    "    pipe_refit = clone(pipe)\n",
    "    pipe_refit.fit(X_train, y_train)\n",
    "    feature_names_refit = pipe_refit.named_steps['preprocess'].get_feature_names_out()\n",
    "    coef_refit = pd.Series(pipe_refit.named_steps['lasso'].coef_.flatten(), index=feature_names_refit)\n",
    "else:\n",
    "    lasso_fs = LogisticRegression(penalty='l1', solver='liblinear', C=1, class_weight='balanced', random_state=RANDOM_STATE)\n",
    "    pipe_refit = Pipeline(steps=[('preprocess', preprocess), ('lasso', lasso_fs)])\n",
    "    pipe_refit.fit(X_train, y_train)\n",
    "    feature_names_refit = pipe_refit.named_steps['preprocess'].get_feature_names_out()\n",
    "    coef_refit = pd.Series(pipe_refit.named_steps['lasso'].coef_.flatten(), index=feature_names_refit)\n",
    "\n",
    "importance_df = (\n",
    "    pd.DataFrame({'feature': coef_refit.index, 'abs_coef': coef_refit.abs().values})\n",
    "      .sort_values('abs_coef', ascending=False)\n",
    ")\n",
    "display(importance_df.head(20))\n",
    "\n",
    "#combine statistically significant and model-important features\n",
    "alpha = 0.05\n",
    "significant_features = [r['feature'] for _, r in univariate_results.iterrows() if r['p_value'] < alpha]\n",
    "model_top_n = 20\n",
    "model_important = importance_df['feature'].head(model_top_n).tolist()\n",
    "\n",
    "best_features = sorted(set(significant_features + model_important))\n",
    "print('Selected best_features (top union):', best_features)\n"
   ]
  },
  {
   "cell_type": "markdown",
   "id": "d8aad606",
   "metadata": {},
   "source": [
    "## 6. Model Validation and Performance\n",
    "\n",
    "We validate the selected features using cross-validation on the L1-logistic model. We report ROC AUC, Average Precision (PR AUC), Brier score, log loss, and F1, and visualize calibration.\n"
   ]
  },
  {
   "cell_type": "code",
   "execution_count": null,
   "id": "5b281fdf",
   "metadata": {},
   "outputs": [],
   "source": [
    "#Build final pipeline restricted to best_features (if there)\n",
    "selected_columns = [c for c in best_features if c in X.columns]\n",
    "if not selected_columns:\n",
    "    selected_columns = X.columns.tolist()\n",
    "\n",
    "preprocess_final = ColumnTransformer(\n",
    "    transformers=[\n",
    "        ('num', numeric_transformer, [c for c in num_cols if c in selected_columns]),\n",
    "        ('bin', binary_transformer, [c for c in cat_like_binary_cols if c in selected_columns])\n",
    "    ],\n",
    "    remainder='drop',\n",
    "    verbose_feature_names_out=False\n",
    ")\n",
    "\n",
    "pipe_final = Pipeline(steps=[\n",
    "    ('preprocess', preprocess_final),\n",
    "    ('lasso', LogisticRegression(penalty='l1', solver='liblinear', C=1, class_weight='balanced', random_state=RANDOM_STATE))\n",
    "])\n",
    "\n",
    "pipe_final.fit(X_train[selected_columns], y_train)\n",
    "\n",
    "#Evaluating on validation and test\n",
    "for split_name, XX, yy in [('Validation', X_val, y_val), ('Test', X_test, y_test)]:\n",
    "    XXs = XX[selected_columns]\n",
    "    y_proba = pipe_final.predict_proba(XXs)[:, 1]\n",
    "    y_pred = pipe_final.predict(XXs)\n",
    "    metrics = {\n",
    "        'roc_auc': roc_auc_score(yy, y_proba),\n",
    "        'avg_precision': average_precision_score(yy, y_proba),\n",
    "        'brier': brier_score_loss(yy, y_proba),\n",
    "        'log_loss': log_loss(yy, y_proba),\n",
    "        'f1': f1_score(yy, y_pred)\n",
    "    }\n",
    "    print(split_name, metrics)\n",
    "\n",
    "#Calibration curve on the test set\n",
    "CalibrationDisplay.from_estimator(pipe_final, X_test[selected_columns], y_test, n_bins=10)\n",
    "plt.show()\n"
   ]
  },
  {
   "cell_type": "markdown",
   "id": "9671f06e",
   "metadata": {},
   "source": [
    "## 7. Model Interpretability and Fairness Analysis\n",
    "\n",
    "We add SHAP-based explanations on a subsample and a simple fairness check with group-disaggregated metrics (if `fairlearn` is available).\n"
   ]
  },
  {
   "cell_type": "code",
   "execution_count": null,
   "id": "7dc461ba",
   "metadata": {},
   "outputs": [],
   "source": [
    "#SHAP interpretability\n",
    "try:\n",
    "    import shap\n",
    "    SHAP_AVAILABLE = True\n",
    "except Exception:\n",
    "    SHAP_AVAILABLE = False\n",
    "\n",
    "if SHAP_AVAILABLE:\n",
    "    shap_sample_size = min(1000, len(X_test))\n",
    "    #Limit to selected columns present in the final pipeline\n",
    "    X_shap = X_test[selected_columns].sample(n=shap_sample_size, random_state=RANDOM_STATE)\n",
    "\n",
    "    #KernelExplainer for black-box pipeline\n",
    "    try:\n",
    "        explainer = shap.Explainer(pipe_final.predict_proba, X_shap)\n",
    "        shap_values = explainer(X_shap)\n",
    "\n",
    "        plt.figure(figsize=(10, 6))\n",
    "        shap.summary_plot(shap_values[...,1], X_shap, plot_type='bar', show=False)\n",
    "        plt.title('SHAP Feature Importance (Mean |SHAP value|)')\n",
    "        plt.tight_layout()\n",
    "        plt.show()\n",
    "\n",
    "        #waterfall for a few examples\n",
    "        print('\\nSHAP Waterfall Plots for Sample Predictions:')\n",
    "        for i in range(min(3, len(X_shap))):\n",
    "            shap.plots.waterfall(shap_values[i, ..., 1], show=False)\n",
    "            plt.title(f'SHAP Waterfall - Sample {i+1}')\n",
    "            plt.tight_layout()\n",
    "            plt.show()\n",
    "    except Exception as e:\n",
    "        print('SHAP computation skipped due to error:', e)\n",
    "else:\n",
    "    print('SHAP not available; skipping interpretability plots.')\n",
    "\n",
    "#Fairness metrics (if fairlearn available)\n",
    "if _FAIRLEARN:\n",
    "    try:\n",
    "        mf = MetricFrame(\n",
    "            metrics={\n",
    "                'selection_rate': selection_rate,\n",
    "                'tpr': true_positive_rate,\n",
    "                'fpr': false_positive_rate,\n",
    "            },\n",
    "            y_true=y_test,\n",
    "            y_pred=pipe_final.predict(X_test[selected_columns]),\n",
    "            sensitive_features=X_test['gender'] if 'gender' in X_test.columns else None\n",
    "        )\n",
    "        print('Group metrics by gender (if available):')\n",
    "        display(mf.by_group)\n",
    "    except Exception as e:\n",
    "        print('Fairness analysis skipped due to error:', e)\n",
    "else:\n",
    "    print('fairlearn not available; skipping fairness analysis.')\n"
   ]
  }
 ],
 "metadata": {
  "kernelspec": {
   "display_name": "Python 3",
   "language": "python",
   "name": "python3"
  },
  "language_info": {
   "codemirror_mode": {
    "name": "ipython",
    "version": 3
   },
   "file_extension": ".py",
   "mimetype": "text/x-python",
   "name": "python",
   "nbconvert_exporter": "python",
   "pygments_lexer": "ipython3",
   "version": "3.10.16"
  }
 },
 "nbformat": 4,
 "nbformat_minor": 5
}
